{
 "cells": [
  {
   "cell_type": "markdown",
   "metadata": {},
   "source": [
    "First Result Notes:\n",
    "\n",
    "Looking at the results of NetD and NetE, there dosent seem to be a signficant difference\n",
    "Both reached lowest rMSE of around 0.238. However, there is merit to the thought that when these networks are put through semi-supervised environments, they will perform differently\n",
    "due to the difference no of core variables\n",
    "\n",
    "Based on this paper: https://arxiv.org/pdf/1511.00561.pdfhttps://arxiv.org/pdf/1511.00561.pdf\n",
    "Changing the loading process so that the comp image is a 1-layer of binary classification\n"
   ]
  },
  {
   "cell_type": "markdown",
   "metadata": {},
   "source": [
    "Seconday Result Notes:\n",
    "Significantly better results, only tested with netA. Now training all other models"
   ]
  },
  {
   "cell_type": "code",
   "execution_count": null,
   "metadata": {},
   "outputs": [],
   "source": [
    "import os\n",
    "from lib.train_AI_lib import *\n",
    "from lib.models.AutoEncoders import *"
   ]
  },
  {
   "cell_type": "code",
   "execution_count": null,
   "metadata": {
    "tags": []
   },
   "outputs": [],
   "source": [
    "os.chdir('..')\n",
    "print(os.getcwd())"
   ]
  },
  {
   "cell_type": "code",
   "execution_count": null,
   "metadata": {
    "tags": []
   },
   "outputs": [],
   "source": [
    "batchsize=64; epoch=15; lr=0.001\n",
    "net = autEncA('autEncA'); net.cuda()\n",
    "trainLoader, valLoader, testLoader = loadData(batchsize, mode='auto')\n",
    "_ = trainNet(net, [trainLoader, valLoader], batchsize, epoch, lr, mode='auto')"
   ]
  },
  {
   "cell_type": "code",
   "execution_count": null,
   "metadata": {},
   "outputs": [],
   "source": [
    "net = autEncA('autEncA'); net.cuda()\n",
    "showResults(net, '/content/drive/My Drive/Colab Notebooks/APS360/APS360-2020Summer-Project/saved/TrainingRuns/AutoEncTrainer/autEncA_b64_te15_lr0.001/model_epoch14')"
   ]
  },
  {
   "cell_type": "code",
   "execution_count": null,
   "metadata": {
    "tags": []
   },
   "outputs": [],
   "source": [
    "batchsize=64; epoch=15; lr=0.001\n",
    "net = autEncB('autEncB'); net.cuda()\n",
    "trainLoader, valLoader, testLoader = loadData(batchsize, mode='auto')\n",
    "_ = trainNet(net, [trainLoader, valLoader], batchsize, epoch, lr, mode='auto')"
   ]
  },
  {
   "cell_type": "code",
   "execution_count": null,
   "metadata": {},
   "outputs": [],
   "source": [
    "net = autEncB('autEncB'); net.cuda()\n",
    "showResults(net, '/content/drive/My Drive/Colab Notebooks/APS360/APS360-2020Summer-Project/saved/TrainingRuns/AutoEncTrainer/autEncA_b64_te15_lr0.001/model_epoch14')"
   ]
  },
  {
   "cell_type": "code",
   "execution_count": null,
   "metadata": {
    "tags": []
   },
   "outputs": [],
   "source": [
    "batchsize=64; epoch=15; lr=0.001\n",
    "net = autEncC('autEncC'); net.cuda()\n",
    "trainLoader, valLoader, testLoader = loadData(batchsize, mode='auto')\n",
    "_ = trainNet(net, [trainLoader, valLoader], batchsize, epoch, lr, mode='AutoEnc')"
   ]
  },
  {
   "cell_type": "code",
   "execution_count": null,
   "metadata": {},
   "outputs": [],
   "source": [
    "net = autEncC('autEncC'); net.cuda()\n",
    "showResults(net, 'saved/TrainingRuns/AutoEncTrainer/autEncC_b64_te15_lr0.001/model_epoch14')"
   ]
  },
  {
   "cell_type": "code",
   "execution_count": null,
   "metadata": {
    "tags": []
   },
   "outputs": [],
   "source": [
    "batchsize=64; epoch=15; lr=0.001\n",
    "net = autEncD('autEncD'); net.cuda()\n",
    "trainLoader, valLoader, testLoader = loadData(batchsize, mode='auto')\n",
    "_ = trainNet(net, [trainLoader, valLoader], batchsize, epoch, lr, mode='AutoEnc')"
   ]
  },
  {
   "cell_type": "code",
   "execution_count": null,
   "metadata": {},
   "outputs": [],
   "source": [
    "net = autEncD('autEncD'); net.cuda()\n",
    "showResults(net, 'saved/TrainingRuns/AutoEncTrainer/autEncD_b64_te15_lr0.001/model_epoch14')"
   ]
  },
  {
   "cell_type": "code",
   "execution_count": null,
   "metadata": {
    "tags": []
   },
   "outputs": [],
   "source": [
    "batchsize=64; epoch=15; lr=0.001\n",
    "net = autEncE('autEncE'); net.cuda()\n",
    "trainLoader, valLoader, testLoader = loadData(batchsize, mode='auto')\n",
    "_ = trainNet(net, [trainLoader, valLoader], batchsize, epoch, lr, mode='AutoEnc')"
   ]
  },
  {
   "cell_type": "code",
   "execution_count": null,
   "metadata": {},
   "outputs": [],
   "source": [
    "net = autEncE('autEncE'); net.cuda()\n",
    "showResults(net, 'saved/TrainingRuns/AutoEncTrainer/autEncE_b64_te15_lr0.001/model_epoch14')"
   ]
  },
  {
   "cell_type": "code",
   "execution_count": null,
   "metadata": {
    "tags": []
   },
   "outputs": [],
   "source": [
    "''' Mostly Deprocated, as we are now utilizing it as a classificatoin problem\n",
    "def genBBoxImages(dictPath='saved/splitData', inPath='data/working-wheat-data/train', oPath='saved/bboxMasked'):\n",
    "    try: os.makedirs(oPath)  # Make the requested oPath\n",
    "    except FileExistsError: None\n",
    "    except: print(\"error creating folder {}\".format(oPath)); return(0)\n",
    "    else: None\n",
    "    \n",
    "    trainData = torch.load(dictPath+\"/trainData\")\n",
    "    valData   = torch.load(dictPath+\"/valData\"  )\n",
    "    testData  = torch.load(dictPath+\"/testData\" )\n",
    "    trainData.update(valData); trainData.update(testData)\n",
    "    imgPath   = inPath+'/'\n",
    "    keyList   = list(trainData.keys())\n",
    "\n",
    "    for i, imgName in enumerate(keyList):\n",
    "        oimg  = cv2.imread(imgPath+imgName)\n",
    "        bbox = trainData[imgName]\n",
    "        mask = createMask(bbox, np.shape(oimg)[:-1])\n",
    "        if i%100==0: print(\"Converted {:.2f}%\".format(100*i/len(keyList)))\n",
    "        np.save(oPath+'/'+imgName.split('.jpg')[0], mask)\n",
    "'''\n",
    "None"
   ]
  }
 ],
 "metadata": {
  "language_info": {
   "codemirror_mode": {
    "name": "ipython",
    "version": 3
   },
   "file_extension": ".py",
   "mimetype": "text/x-python",
   "name": "python",
   "nbconvert_exporter": "python",
   "pygments_lexer": "ipython3",
   "version": "3.6.9-final"
  },
  "orig_nbformat": 2,
  "kernelspec": {
   "name": "python_defaultSpec_1595282834448",
   "display_name": "Python 3.6.9 64-bit"
  }
 },
 "nbformat": 4,
 "nbformat_minor": 2
}