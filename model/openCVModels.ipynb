{
  "nbformat": 4,
  "nbformat_minor": 0,
  "metadata": {
    "colab": {
      "name": "APS Project Revised",
      "provenance": [],
      "collapsed_sections": []
    },
    "kernelspec": {
      "name": "python_defaultSpec_1596624232908",
      "display_name": "Python 3.6.9 64-bit"
    },
    "accelerator": "GPU"
  },
  "cells": [
    {
      "cell_type": "code",
      "metadata": {
        "id": "gGG2JcPgJl2O",
        "colab_type": "code",
        "colab": {
          "base_uri": "https://localhost:8080/",
          "height": 122
        },
        "outputId": "c2d628d6-35d4-494f-852e-c9ffd53c9a2e"
      },
      "source": [
        "#from google.colab import drive\n",
        "#from google.colab import files\n",
        "import os\n",
        "from lib.train_AI_lib import *"
      ],
      "execution_count": 1,
      "outputs": []
    },
    {
      "cell_type": "code",
      "execution_count": 2,
      "metadata": {
        "tags": []
      },
      "outputs": [
        {
          "output_type": "stream",
          "name": "stdout",
          "text": "c:\\Users\\kevin\\Documents\\GitHub\\APS360-2020Summer-Project\n"
        }
      ],
      "source": [
        "os.chdir('..')\n",
        "print(os.getcwd())"
      ]
    },
    {
      "cell_type": "code",
      "metadata": {
        "id": "ho4_DfBzJtMu",
        "colab_type": "code",
        "colab": {}
      },
      "source": [
        "import cv2\n",
        "#### Filters we want to use ####\n",
        "edgeDetect  = lambda oImg: cv2.Canny(oImg, 100, 100)\n",
        "edgeDetect2 = lambda fImg: cv2.Canny(fImg, 175, 250)\n",
        "laplacian   = lambda pImg: cv2.Laplacian(cv2.cvtColor(pImg, cv2.COLOR_BGR2GRAY),cv2.CV_64F)\n",
        "gradient    = lambda gImg: cv2.morphologyEx(cv2.cvtColor(gImg, cv2.COLOR_BGR2GRAY), cv2.MORPH_GRADIENT, (5,5))\n",
        "opening     = lambda cImg: cv2.morphologyEx(cv2.cvtColor(cImg, cv2.COLOR_BGR2GRAY), cv2.MORPH_OPEN, (5,5))\n",
        "bilateral   = lambda bImg: cv2.bilateralFilter(cv2.cvtColor(bImg, cv2.COLOR_BGR2GRAY),9,100,100)\n",
        "grayscale   = lambda rImg: cv2.cvtColor(rImg, cv2.COLOR_BGR2GRAY)"
      ],
      "execution_count": 3,
      "outputs": []
    },
    {
      "cell_type": "code",
      "metadata": {
        "id": "lVuAGsuXJuFc",
        "colab_type": "code",
        "colab": {}
      },
      "source": [
        "class CNN(nn.Module):\n",
        "    def __init__(self, name):\n",
        "        super(CNN, self).__init__()\n",
        "        self.name = name\n",
        "\n",
        "        self.conv1 = nn.Conv2d(1,   15,  6, stride=2)  # n = 1024 -> 510\n",
        "        self.conv2 = nn.Conv2d(15,  30,  6, stride=2)  # n = 510  -> 253\n",
        "        self.pool1 = nn.MaxPool2d(3, 2)                # n = 253  -> 126\n",
        "        self.conv3 = nn.Conv2d(30,  60,  6, stride=2)  # n = 126  -> 61\n",
        "        self.pool2 = nn.MaxPool2d(4, 2)                # n = 61   -> 29\n",
        "\n",
        "        self.fc1   = nn.Linear(29*29*60, 20)\n",
        "        self.fc2   = nn.Linear(20, 1)\n",
        "\n",
        "    def forward(self, x):\n",
        "        x = self.pool1(F.relu(self.conv1(x)))\n",
        "        x = F.relu(self.conv2(x))\n",
        "        x = self.pool2(F.relu(self.conv3(x)))\n",
        "        x = x.view(-1, 29*29*60)\n",
        "        x = F.relu(self.fc1(x))\n",
        "        x = self.fc2(x)\n",
        "        return(x)"
      ],
      "execution_count": 4,
      "outputs": []
    },
    {
      "cell_type": "code",
      "execution_count": 5,
      "metadata": {},
      "outputs": [],
      "source": [
        "class CNN_3Chan(nn.Module):\n",
        "    def __init__(self, name):\n",
        "        super(CNN_3Chan, self).__init__()\n",
        "        self.name = name\n",
        "\n",
        "        self.conv1 = nn.Conv2d(3,   15,  6, stride=2)  # n = 1024 -> 510\n",
        "        self.conv2 = nn.Conv2d(15,  30,  6, stride=2)  # n = 510  -> 253\n",
        "        self.pool1 = nn.MaxPool2d(3, 2)                # n = 253  -> 126\n",
        "        self.conv3 = nn.Conv2d(30,  60,  6, stride=2)  # n = 126  -> 61\n",
        "        self.pool2 = nn.MaxPool2d(4, 2)                # n = 61   -> 29\n",
        "\n",
        "        self.fc1   = nn.Linear(29*29*60, 20)\n",
        "        self.fc2   = nn.Linear(20, 1)\n",
        "\n",
        "    def forward(self, x):\n",
        "        x = self.pool1(F.relu(self.conv1(x)))\n",
        "        x = F.relu(self.conv2(x))\n",
        "        x = self.pool2(F.relu(self.conv3(x)))\n",
        "        x = x.view(-1, 29*29*60)\n",
        "        x = F.relu(self.fc1(x))\n",
        "        x = self.fc2(x)\n",
        "        return(x)"
      ]
    },
    {
      "cell_type": "markdown",
      "metadata": {},
      "source": [
        "## Edge Detection"
      ]
    },
    {
      "cell_type": "code",
      "metadata": {
        "id": "vREvsIZULVot",
        "colab_type": "code",
        "colab": {}
      },
      "source": [
        "# make dataloaders\n",
        "trainLoader, valLoader, testLoader = loadData(batchsize = 32, args = {'func': edgeDetect})"
      ],
      "execution_count": null,
      "outputs": []
    },
    {
      "cell_type": "code",
      "metadata": {
        "id": "c2XAohXAM8QO",
        "colab_type": "code",
        "colab": {
          "base_uri": "https://localhost:8080/",
          "height": 34
        },
        "outputId": "5f6ded7c-4f31-49c9-b853-4ac80afff62d"
      },
      "source": [
        "torch.cuda.is_available()"
      ],
      "execution_count": null,
      "outputs": []
    },
    {
      "cell_type": "code",
      "metadata": {
        "id": "Ru8PFL2ZJvJi",
        "colab_type": "code",
        "colab": {
          "base_uri": "https://localhost:8080/",
          "height": 357
        },
        "outputId": "f1b90ffa-4300-4826-ae08-ff353d0ef9ce",
        "tags": []
      },
      "source": [
        "my_model = CNN(name = \"edgeDetect\")\n",
        "use_cuda = True\n",
        "\n",
        "if use_cuda and torch.cuda.is_available():\n",
        "  my_model.cuda()\n",
        "  print('CUDA is available!  Training on GPU ...')\n",
        "else:\n",
        "  print('CUDA is not available.  Training on CPU ...')\n",
        "\n",
        "trainNet(net = my_model,\n",
        "         data = [trainLoader, valLoader], \n",
        "         batchsize = 32, \n",
        "         epochNo = 20, \n",
        "         lr = 0.001)"
      ],
      "execution_count": null,
      "outputs": []
    },
    {
      "cell_type": "code",
      "execution_count": null,
      "metadata": {
        "tags": []
      },
      "outputs": [],
      "source": [
        "trainLoader, valLoader, testLoader = loadData(batchsize = 1, args = {'func': edgeDetect})\n",
        "netPath = \"/content/APS360-2020Summer-Project/saved/TrainingRuns/RegAdamTrainer/edgeDetect_b32_te20_lr0.001\"\n",
        "regresAnalysis(my_model, trainLoader, netPath)\n"
      ]
    },
    {
      "cell_type": "markdown",
      "metadata": {},
      "source": [
        "## Edge Detection v2"
      ]
    },
    {
      "cell_type": "code",
      "execution_count": null,
      "metadata": {},
      "outputs": [],
      "source": [
        "# make dataloaders\n",
        "trainLoader, valLoader, testLoader = loadData(batchsize = 32, args = {'func': edgeDetect2})"
      ]
    },
    {
      "cell_type": "code",
      "execution_count": null,
      "metadata": {
        "tags": []
      },
      "outputs": [],
      "source": [
        "my_model = CNN(name = \"edgeDetect2\")\n",
        "use_cuda = True\n",
        "\n",
        "if use_cuda and torch.cuda.is_available():\n",
        "  my_model.cuda()\n",
        "  print('CUDA is available!  Training on GPU ...')\n",
        "else:\n",
        "  print('CUDA is not available.  Training on CPU ...')\n",
        "\n",
        "trainNet(net = my_model,\n",
        "         data = [trainLoader, valLoader], \n",
        "         batchsize = 32, \n",
        "         epochNo = 20, \n",
        "         lr = 0.001)"
      ]
    },
    {
      "cell_type": "code",
      "execution_count": null,
      "metadata": {
        "tags": []
      },
      "outputs": [],
      "source": [
        "trainLoader, valLoader, testLoader = loadData(batchsize = 1, args = {'func': edgeDetect2})\n",
        "netPath = \"/content/APS360-2020Summer-Project/saved/TrainingRuns/RegAdamTrainer/edgeDetect2_b32_te20_lr0.001\"\n",
        "regresAnalysis(my_model, trainLoader, netPath)\n"
      ]
    },
    {
      "cell_type": "markdown",
      "metadata": {
        "colab": {},
        "colab_type": "code",
        "id": "01Tnk6voLOqJ"
      },
      "source": [
        "## laplacian"
      ]
    },
    {
      "cell_type": "code",
      "execution_count": null,
      "metadata": {
        "tags": []
      },
      "outputs": [],
      "source": [
        "# make dataloaders\n",
        "trainLoader, valLoader, testLoader = loadData(batchsize = 32, args = {'func': laplacian})"
      ]
    },
    {
      "cell_type": "code",
      "execution_count": null,
      "metadata": {
        "tags": []
      },
      "outputs": [],
      "source": [
        "my_model = CNN(name = \"laplacian\")\n",
        "use_cuda = True\n",
        "\n",
        "if use_cuda and torch.cuda.is_available():\n",
        "  my_model.cuda()\n",
        "  print('CUDA is available!  Training on GPU ...')\n",
        "else:\n",
        "  print('CUDA is not available.  Training on CPU ...')\n",
        "\n",
        "trainNet(net = my_model,\n",
        "         data = [trainLoader, valLoader], \n",
        "         batchsize = 32, \n",
        "         epochNo = 20, \n",
        "         lr = 0.001)"
      ]
    },
    {
      "cell_type": "code",
      "execution_count": null,
      "metadata": {
        "tags": []
      },
      "outputs": [],
      "source": [
        "trainLoader, valLoader, testLoader = loadData(batchsize = 1, args = {'func': laplacian})\n",
        "netPath = \"/content/APS360-2020Summer-Project/saved/TrainingRuns/RegAdamTrainer/laplacian_b32_te20_lr0.001\"\n",
        "regresAnalysis(my_model, trainLoader, netPath)\n"
      ]
    },
    {
      "cell_type": "markdown",
      "metadata": {},
      "source": [
        "## gradient"
      ]
    },
    {
      "cell_type": "code",
      "execution_count": null,
      "metadata": {},
      "outputs": [],
      "source": [
        "# make dataloaders\n",
        "trainLoader, valLoader, testLoader = loadData(batchsize = 32, args = {'func': gradient})"
      ]
    },
    {
      "cell_type": "code",
      "execution_count": null,
      "metadata": {
        "tags": []
      },
      "outputs": [],
      "source": [
        "my_model = CNN(name = \"gradient\")\n",
        "use_cuda = True\n",
        "\n",
        "if use_cuda and torch.cuda.is_available():\n",
        "  my_model.cuda()\n",
        "  print('CUDA is available!  Training on GPU ...')\n",
        "else:\n",
        "  print('CUDA is not available.  Training on CPU ...')\n",
        "\n",
        "trainNet(net = my_model,\n",
        "         data = [trainLoader, valLoader], \n",
        "         batchsize = 32, \n",
        "         epochNo = 20, \n",
        "         lr = 0.001)"
      ]
    },
    {
      "cell_type": "code",
      "execution_count": null,
      "metadata": {
        "tags": []
      },
      "outputs": [],
      "source": [
        "trainLoader, valLoader, testLoader = loadData(batchsize = 1, args = {'func': gradient})\n",
        "netPath = \"/content/APS360-2020Summer-Project/saved/TrainingRuns/RegAdamTrainer/gradient_b32_te20_lr0.001\"\n",
        "regresAnalysis(my_model, trainLoader, netPath)"
      ]
    },
    {
      "cell_type": "markdown",
      "metadata": {},
      "source": [
        "## opening"
      ]
    },
    {
      "cell_type": "code",
      "execution_count": null,
      "metadata": {},
      "outputs": [],
      "source": [
        "# make dataloaders\n",
        "trainLoader, valLoader, testLoader = loadData(batchsize = 32, args = {'func': opening})"
      ]
    },
    {
      "cell_type": "code",
      "execution_count": null,
      "metadata": {
        "tags": []
      },
      "outputs": [],
      "source": [
        "my_model = CNN(name = \"opening\")\n",
        "use_cuda = True\n",
        "\n",
        "if use_cuda and torch.cuda.is_available():\n",
        "  my_model.cuda()\n",
        "  print('CUDA is available!  Training on GPU ...')\n",
        "else:\n",
        "  print('CUDA is not available.  Training on CPU ...')\n",
        "\n",
        "trainNet(net = my_model,\n",
        "         data = [trainLoader, valLoader], \n",
        "         batchsize = 32, \n",
        "         epochNo = 20, \n",
        "         lr = 0.001)"
      ]
    },
    {
      "cell_type": "code",
      "execution_count": null,
      "metadata": {
        "tags": []
      },
      "outputs": [],
      "source": [
        "trainLoader, valLoader, testLoader = loadData(batchsize = 1, args = {'func': opening})\n",
        "netPath = \"/content/APS360-2020Summer-Project/saved/TrainingRuns/RegAdamTrainer/opening_b32_te20_lr0.001\"\n",
        "regresAnalysis(my_model, trainLoader, netPath)"
      ]
    },
    {
      "cell_type": "markdown",
      "metadata": {},
      "source": [
        "## Bilateral"
      ]
    },
    {
      "cell_type": "code",
      "execution_count": null,
      "metadata": {},
      "outputs": [],
      "source": [
        "# make dataloaders\n",
        "trainLoader, valLoader, testLoader = loadData(batchsize = 32, args = {'func': bilateral})"
      ]
    },
    {
      "cell_type": "code",
      "execution_count": null,
      "metadata": {
        "tags": []
      },
      "outputs": [],
      "source": [
        "my_model = CNN(name = \"bilateral\")\n",
        "use_cuda = True\n",
        "\n",
        "if use_cuda and torch.cuda.is_available():\n",
        "  my_model.cuda()\n",
        "  print('CUDA is available!  Training on GPU ...')\n",
        "else:\n",
        "  print('CUDA is not available.  Training on CPU ...')\n",
        "\n",
        "trainNet(net = my_model,\n",
        "         data = [trainLoader, valLoader], \n",
        "         batchsize = 32, \n",
        "         epochNo = 20, \n",
        "         lr = 0.001)"
      ]
    },
    {
      "cell_type": "code",
      "execution_count": null,
      "metadata": {
        "tags": []
      },
      "outputs": [],
      "source": [
        "trainLoader, valLoader, testLoader = loadData(batchsize = 1, args = {'func': bilateral})\n",
        "netPath = \"/content/APS360-2020Summer-Project/saved/TrainingRuns/RegAdamTrainer/bilateral_b32_te20_lr0.001\"\n",
        "regresAnalysis(my_model, trainLoader, netPath)"
      ]
    },
    {
      "cell_type": "markdown",
      "metadata": {},
      "source": [
        "# Using semi-supervised model"
      ]
    },
    {
      "cell_type": "markdown",
      "metadata": {},
      "source": [
        "### encD + greyscale image"
      ]
    },
    {
      "cell_type": "code",
      "execution_count": null,
      "metadata": {
        "tags": []
      },
      "outputs": [],
      "source": [
        "trainLoader, valLoader, testLoader = loadData(batchsize = 32, inPath='saved/autEncMasked/autEncD', args = {'func': grayscale, 'cuda':1})\n",
        "my_model = CNN(name = \"CNN_encD\"); my_model.cuda()\n",
        "trainNet(net = my_model, data = [trainLoader, valLoader], batchsize = 32, epochNo = 20, lr = 0.001)\n"
      ]
    },
    {
      "cell_type": "code",
      "execution_count": null,
      "metadata": {
        "tags": []
      },
      "outputs": [],
      "source": [
        "netPath = \"saved/TrainingRuns/RegAdamTrainer/CNN_encD_b32_te20_lr0.001\"\n",
        "my_model = CNN(name=\"CNN_encD\"); my_model.cuda()\n",
        "my_model.load_state_dict(torch.load(netPath+\"/model_epoch19\"))\n",
        "trainLoader, valLoader, testLoader = loadData(batchsize = 1, args = {'func': grayscale}, inPath='saved/autEncMasked/autEncD')\n",
        "regresAnalysis(my_model, trainLoader, netPath, mode='train')"
      ]
    },
    {
      "cell_type": "code",
      "execution_count": null,
      "metadata": {
        "tags": []
      },
      "outputs": [],
      "source": [
        "netPath = \"saved/TrainingRuns/RegAdamTrainer/CNN_encD_b32_te20_lr0.001\"\n",
        "my_model = CNN(name=\"CNN_encD\"); my_model.cuda()\n",
        "my_model.load_state_dict(torch.load(netPath+\"/model_epoch19\"))\n",
        "trainLoader, valLoader, testLoader = loadData(batchsize = 1, args = {'func': grayscale})\n",
        "regresAnalysis(my_model, valLoader, netPath, mode='val')"
      ]
    },
    {
      "cell_type": "code",
      "execution_count": null,
      "metadata": {
        "tags": []
      },
      "outputs": [],
      "source": [
        "netPath = \"saved/TrainingRuns/RegAdamTrainer/CNN_encD_b32_te20_lr0.001\"\n",
        "my_model = CNN(name=\"CNN_encD\"); my_model.cuda()\n",
        "my_model.load_state_dict(torch.load(netPath+\"/model_epoch19\"))\n",
        "trainLoader, valLoader, testLoader = loadData(batchsize = 1, args = {'func': grayscale})\n",
        "regresAnalysis(my_model, testLoader, netPath, mode='test')"
      ]
    },
    {
      "cell_type": "markdown",
      "metadata": {},
      "source": [
        "### encD, 3 channels"
      ]
    },
    {
      "cell_type": "code",
      "execution_count": null,
      "metadata": {
        "tags": []
      },
      "outputs": [],
      "source": [
        "trainLoader, valLoader, testLoader = loadData(batchsize = 45, inPath='saved/autEncMasked/autEncD')\n",
        "my_model = CNN_3Chan(name = \"CNN_encD_3Chan\"); my_model.cuda()\n",
        "trainNet(net = my_model, data = [trainLoader, valLoader], batchsize = 45, epochNo = 30, lr = 0.001)"
      ]
    },
    {
      "cell_type": "code",
      "execution_count": null,
      "metadata": {
        "tags": []
      },
      "outputs": [],
      "source": [
        "netPath = \"saved/TrainingRuns/RegAdamTrainer/CNN_encD_3Chan_b32_te25_lr0.001\"\n",
        "my_model = CNN_3Chan(name=\"CNN_encD_3Chan\"); my_model.cuda()\n",
        "my_model.load_state_dict(torch.load(netPath+\"/model_epoch22\"))\n",
        "trainLoader, valLoader, testLoader = loadData(batchsize = 1, inPath='saved/autEncMasked/autEncD')\n",
        "regresAnalysis(my_model, trainLoader, netPath, mode='train')"
      ]
    },
    {
      "cell_type": "code",
      "execution_count": null,
      "metadata": {
        "tags": []
      },
      "outputs": [],
      "source": [
        "netPath = \"saved/TrainingRuns/RegAdamTrainer/CNN_encD_3Chan_b32_te25_lr0.001\"\n",
        "my_model = CNN_3Chan(name=\"CNN_encD_3Chan\"); my_model.cuda()\n",
        "my_model.load_state_dict(torch.load(netPath+\"/model_epoch22\"))\n",
        "trainLoader, valLoader, testLoader = loadData(batchsize = 1, inPath='saved/autEncMasked/autEncD')\n",
        "regresAnalysis(my_model, valLoader, netPath, mode='val')"
      ]
    },
    {
      "cell_type": "code",
      "execution_count": 6,
      "metadata": {
        "tags": []
      },
      "outputs": [
        {
          "output_type": "stream",
          "name": "stdout",
          "text": "Tested 99.71%"
        },
        {
          "output_type": "display_data",
          "data": {
            "text/plain": "<Figure size 432x288 with 2 Axes>",
            "image/svg+xml": "<?xml version=\"1.0\" encoding=\"utf-8\" standalone=\"no\"?>\r\n<!DOCTYPE svg PUBLIC \"-//W3C//DTD SVG 1.1//EN\"\r\n  \"http://www.w3.org/Graphics/SVG/1.1/DTD/svg11.dtd\">\r\n<!-- Created with matplotlib (https://matplotlib.org/) -->\r\n<svg height=\"290.75175pt\" version=\"1.1\" viewBox=\"0 0 441.45 290.75175\" width=\"441.45pt\" xmlns=\"http://www.w3.org/2000/svg\" xmlns:xlink=\"http://www.w3.org/1999/xlink\">\r\n <defs>\r\n  <style type=\"text/css\">\r\n*{stroke-linecap:butt;stroke-linejoin:round;}\r\n  </style>\r\n </defs>\r\n <g id=\"figure_1\">\r\n  <g id=\"patch_1\">\r\n   <path d=\"M 0 290.75175 \r\nL 441.45 290.75175 \r\nL 441.45 0 \r\nL 0 0 \r\nz\r\n\" style=\"fill:none;\"/>\r\n  </g>\r\n  <g id=\"axes_1\">\r\n   <g id=\"patch_2\">\r\n    <path d=\"M 50.14375 253.1955 \r\nL 384.94375 253.1955 \r\nL 384.94375 35.7555 \r\nL 50.14375 35.7555 \r\nz\r\n\" style=\"fill:#ffffff;\"/>\r\n   </g>\r\n   <g id=\"patch_3\">\r\n    <path clip-path=\"url(#p030cb4b42a)\" d=\"M 65.361932 253.1955 \r\nL 85.429864 253.1955 \r\nL 85.429864 242.841214 \r\nL 65.361932 242.841214 \r\nz\r\n\" style=\"fill:#2ca02c;\"/>\r\n   </g>\r\n   <g id=\"patch_4\">\r\n    <path clip-path=\"url(#p030cb4b42a)\" d=\"M 85.429864 253.1955 \r\nL 92.119175 253.1955 \r\nL 92.119175 232.486929 \r\nL 85.429864 232.486929 \r\nz\r\n\" style=\"fill:#2ca02c;\"/>\r\n   </g>\r\n   <g id=\"patch_5\">\r\n    <path clip-path=\"url(#p030cb4b42a)\" d=\"M 92.119175 253.1955 \r\nL 112.187107 253.1955 \r\nL 112.187107 242.841214 \r\nL 92.119175 242.841214 \r\nz\r\n\" style=\"fill:#2ca02c;\"/>\r\n   </g>\r\n   <g id=\"patch_6\">\r\n    <path clip-path=\"url(#p030cb4b42a)\" d=\"M 112.187107 253.1955 \r\nL 115.531762 253.1955 \r\nL 115.531762 242.841214 \r\nL 112.187107 242.841214 \r\nz\r\n\" style=\"fill:#2ca02c;\"/>\r\n   </g>\r\n   <g id=\"patch_7\">\r\n    <path clip-path=\"url(#p030cb4b42a)\" d=\"M 115.531762 253.1955 \r\nL 128.910383 253.1955 \r\nL 128.910383 211.778357 \r\nL 115.531762 211.778357 \r\nz\r\n\" style=\"fill:#2ca02c;\"/>\r\n   </g>\r\n   <g id=\"patch_8\">\r\n    <path clip-path=\"url(#p030cb4b42a)\" d=\"M 128.910383 253.1955 \r\nL 135.599694 253.1955 \r\nL 135.599694 253.1955 \r\nL 128.910383 253.1955 \r\nz\r\n\" style=\"fill:#2ca02c;\"/>\r\n   </g>\r\n   <g id=\"patch_9\">\r\n    <path clip-path=\"url(#p030cb4b42a)\" d=\"M 135.599694 253.1955 \r\nL 138.944349 253.1955 \r\nL 138.944349 232.486929 \r\nL 135.599694 232.486929 \r\nz\r\n\" style=\"fill:#2ca02c;\"/>\r\n   </g>\r\n   <g id=\"patch_10\">\r\n    <path clip-path=\"url(#p030cb4b42a)\" d=\"M 138.944349 253.1955 \r\nL 142.289005 253.1955 \r\nL 142.289005 242.841214 \r\nL 138.944349 242.841214 \r\nz\r\n\" style=\"fill:#2ca02c;\"/>\r\n   </g>\r\n   <g id=\"patch_11\">\r\n    <path clip-path=\"url(#p030cb4b42a)\" d=\"M 142.289005 253.1955 \r\nL 148.978315 253.1955 \r\nL 148.978315 222.132643 \r\nL 142.289005 222.132643 \r\nz\r\n\" style=\"fill:#2ca02c;\"/>\r\n   </g>\r\n   <g id=\"patch_12\">\r\n    <path clip-path=\"url(#p030cb4b42a)\" d=\"M 148.978315 253.1955 \r\nL 152.322971 253.1955 \r\nL 152.322971 232.486929 \r\nL 148.978315 232.486929 \r\nz\r\n\" style=\"fill:#2ca02c;\"/>\r\n   </g>\r\n   <g id=\"patch_13\">\r\n    <path clip-path=\"url(#p030cb4b42a)\" d=\"M 152.322971 253.1955 \r\nL 155.667626 253.1955 \r\nL 155.667626 191.069786 \r\nL 152.322971 191.069786 \r\nz\r\n\" style=\"fill:#2ca02c;\"/>\r\n   </g>\r\n   <g id=\"patch_14\">\r\n    <path clip-path=\"url(#p030cb4b42a)\" d=\"M 155.667626 253.1955 \r\nL 159.012281 253.1955 \r\nL 159.012281 242.841214 \r\nL 155.667626 242.841214 \r\nz\r\n\" style=\"fill:#2ca02c;\"/>\r\n   </g>\r\n   <g id=\"patch_15\">\r\n    <path clip-path=\"url(#p030cb4b42a)\" d=\"M 159.012281 253.1955 \r\nL 162.356937 253.1955 \r\nL 162.356937 222.132643 \r\nL 159.012281 222.132643 \r\nz\r\n\" style=\"fill:#2ca02c;\"/>\r\n   </g>\r\n   <g id=\"patch_16\">\r\n    <path clip-path=\"url(#p030cb4b42a)\" d=\"M 162.356937 253.1955 \r\nL 165.701592 253.1955 \r\nL 165.701592 232.486929 \r\nL 162.356937 232.486929 \r\nz\r\n\" style=\"fill:#2ca02c;\"/>\r\n   </g>\r\n   <g id=\"patch_17\">\r\n    <path clip-path=\"url(#p030cb4b42a)\" d=\"M 165.701592 253.1955 \r\nL 169.046248 253.1955 \r\nL 169.046248 232.486929 \r\nL 165.701592 232.486929 \r\nz\r\n\" style=\"fill:#2ca02c;\"/>\r\n   </g>\r\n   <g id=\"patch_18\">\r\n    <path clip-path=\"url(#p030cb4b42a)\" d=\"M 169.046248 253.1955 \r\nL 172.390903 253.1955 \r\nL 172.390903 170.361214 \r\nL 169.046248 170.361214 \r\nz\r\n\" style=\"fill:#2ca02c;\"/>\r\n   </g>\r\n   <g id=\"patch_19\">\r\n    <path clip-path=\"url(#p030cb4b42a)\" d=\"M 172.390903 253.1955 \r\nL 175.735558 253.1955 \r\nL 175.735558 222.132643 \r\nL 172.390903 222.132643 \r\nz\r\n\" style=\"fill:#2ca02c;\"/>\r\n   </g>\r\n   <g id=\"patch_20\">\r\n    <path clip-path=\"url(#p030cb4b42a)\" d=\"M 175.735558 253.1955 \r\nL 179.080214 253.1955 \r\nL 179.080214 201.424071 \r\nL 175.735558 201.424071 \r\nz\r\n\" style=\"fill:#2ca02c;\"/>\r\n   </g>\r\n   <g id=\"patch_21\">\r\n    <path clip-path=\"url(#p030cb4b42a)\" d=\"M 179.080214 253.1955 \r\nL 182.424869 253.1955 \r\nL 182.424869 160.006929 \r\nL 179.080214 160.006929 \r\nz\r\n\" style=\"fill:#2ca02c;\"/>\r\n   </g>\r\n   <g id=\"patch_22\">\r\n    <path clip-path=\"url(#p030cb4b42a)\" d=\"M 182.424869 253.1955 \r\nL 185.769524 253.1955 \r\nL 185.769524 201.424071 \r\nL 182.424869 201.424071 \r\nz\r\n\" style=\"fill:#2ca02c;\"/>\r\n   </g>\r\n   <g id=\"patch_23\">\r\n    <path clip-path=\"url(#p030cb4b42a)\" d=\"M 185.769524 253.1955 \r\nL 189.11418 253.1955 \r\nL 189.11418 211.778357 \r\nL 185.769524 211.778357 \r\nz\r\n\" style=\"fill:#2ca02c;\"/>\r\n   </g>\r\n   <g id=\"patch_24\">\r\n    <path clip-path=\"url(#p030cb4b42a)\" d=\"M 189.11418 253.1955 \r\nL 192.458835 253.1955 \r\nL 192.458835 201.424071 \r\nL 189.11418 201.424071 \r\nz\r\n\" style=\"fill:#2ca02c;\"/>\r\n   </g>\r\n   <g id=\"patch_25\">\r\n    <path clip-path=\"url(#p030cb4b42a)\" d=\"M 192.458835 253.1955 \r\nL 195.80349 253.1955 \r\nL 195.80349 128.944071 \r\nL 192.458835 128.944071 \r\nz\r\n\" style=\"fill:#2ca02c;\"/>\r\n   </g>\r\n   <g id=\"patch_26\">\r\n    <path clip-path=\"url(#p030cb4b42a)\" d=\"M 195.80349 253.1955 \r\nL 199.148146 253.1955 \r\nL 199.148146 242.841214 \r\nL 195.80349 242.841214 \r\nz\r\n\" style=\"fill:#2ca02c;\"/>\r\n   </g>\r\n   <g id=\"patch_27\">\r\n    <path clip-path=\"url(#p030cb4b42a)\" d=\"M 199.148146 253.1955 \r\nL 202.492801 253.1955 \r\nL 202.492801 160.006929 \r\nL 199.148146 160.006929 \r\nz\r\n\" style=\"fill:#2ca02c;\"/>\r\n   </g>\r\n   <g id=\"patch_28\">\r\n    <path clip-path=\"url(#p030cb4b42a)\" d=\"M 202.492801 253.1955 \r\nL 205.837456 253.1955 \r\nL 205.837456 160.006929 \r\nL 202.492801 160.006929 \r\nz\r\n\" style=\"fill:#2ca02c;\"/>\r\n   </g>\r\n   <g id=\"patch_29\">\r\n    <path clip-path=\"url(#p030cb4b42a)\" d=\"M 205.837456 253.1955 \r\nL 209.182112 253.1955 \r\nL 209.182112 222.132643 \r\nL 205.837456 222.132643 \r\nz\r\n\" style=\"fill:#2ca02c;\"/>\r\n   </g>\r\n   <g id=\"patch_30\">\r\n    <path clip-path=\"url(#p030cb4b42a)\" d=\"M 209.182112 253.1955 \r\nL 212.526767 253.1955 \r\nL 212.526767 211.778357 \r\nL 209.182112 211.778357 \r\nz\r\n\" style=\"fill:#2ca02c;\"/>\r\n   </g>\r\n   <g id=\"patch_31\">\r\n    <path clip-path=\"url(#p030cb4b42a)\" d=\"M 212.526767 253.1955 \r\nL 215.871422 253.1955 \r\nL 215.871422 191.069786 \r\nL 212.526767 191.069786 \r\nz\r\n\" style=\"fill:#2ca02c;\"/>\r\n   </g>\r\n   <g id=\"patch_32\">\r\n    <path clip-path=\"url(#p030cb4b42a)\" d=\"M 215.871422 253.1955 \r\nL 219.216078 253.1955 \r\nL 219.216078 160.006929 \r\nL 215.871422 160.006929 \r\nz\r\n\" style=\"fill:#2ca02c;\"/>\r\n   </g>\r\n   <g id=\"patch_33\">\r\n    <path clip-path=\"url(#p030cb4b42a)\" d=\"M 219.216078 253.1955 \r\nL 222.560733 253.1955 \r\nL 222.560733 128.944071 \r\nL 219.216078 128.944071 \r\nz\r\n\" style=\"fill:#2ca02c;\"/>\r\n   </g>\r\n   <g id=\"patch_34\">\r\n    <path clip-path=\"url(#p030cb4b42a)\" d=\"M 222.560733 253.1955 \r\nL 225.905388 253.1955 \r\nL 225.905388 139.298357 \r\nL 222.560733 139.298357 \r\nz\r\n\" style=\"fill:#2ca02c;\"/>\r\n   </g>\r\n   <g id=\"patch_35\">\r\n    <path clip-path=\"url(#p030cb4b42a)\" d=\"M 225.905388 253.1955 \r\nL 229.250044 253.1955 \r\nL 229.250044 180.7155 \r\nL 225.905388 180.7155 \r\nz\r\n\" style=\"fill:#2ca02c;\"/>\r\n   </g>\r\n   <g id=\"patch_36\">\r\n    <path clip-path=\"url(#p030cb4b42a)\" d=\"M 229.250044 253.1955 \r\nL 232.594699 253.1955 \r\nL 232.594699 180.7155 \r\nL 229.250044 180.7155 \r\nz\r\n\" style=\"fill:#2ca02c;\"/>\r\n   </g>\r\n   <g id=\"patch_37\">\r\n    <path clip-path=\"url(#p030cb4b42a)\" d=\"M 232.594699 253.1955 \r\nL 235.939354 253.1955 \r\nL 235.939354 180.7155 \r\nL 232.594699 180.7155 \r\nz\r\n\" style=\"fill:#2ca02c;\"/>\r\n   </g>\r\n   <g id=\"patch_38\">\r\n    <path clip-path=\"url(#p030cb4b42a)\" d=\"M 235.939354 253.1955 \r\nL 239.28401 253.1955 \r\nL 239.28401 108.2355 \r\nL 235.939354 108.2355 \r\nz\r\n\" style=\"fill:#2ca02c;\"/>\r\n   </g>\r\n   <g id=\"patch_39\">\r\n    <path clip-path=\"url(#p030cb4b42a)\" d=\"M 239.28401 253.1955 \r\nL 242.628665 253.1955 \r\nL 242.628665 160.006929 \r\nL 239.28401 160.006929 \r\nz\r\n\" style=\"fill:#2ca02c;\"/>\r\n   </g>\r\n   <g id=\"patch_40\">\r\n    <path clip-path=\"url(#p030cb4b42a)\" d=\"M 242.628665 253.1955 \r\nL 245.97332 253.1955 \r\nL 245.97332 191.069786 \r\nL 242.628665 191.069786 \r\nz\r\n\" style=\"fill:#2ca02c;\"/>\r\n   </g>\r\n   <g id=\"patch_41\">\r\n    <path clip-path=\"url(#p030cb4b42a)\" d=\"M 245.97332 253.1955 \r\nL 249.317976 253.1955 \r\nL 249.317976 128.944071 \r\nL 245.97332 128.944071 \r\nz\r\n\" style=\"fill:#2ca02c;\"/>\r\n   </g>\r\n   <g id=\"patch_42\">\r\n    <path clip-path=\"url(#p030cb4b42a)\" d=\"M 249.317976 253.1955 \r\nL 252.662631 253.1955 \r\nL 252.662631 180.7155 \r\nL 249.317976 180.7155 \r\nz\r\n\" style=\"fill:#2ca02c;\"/>\r\n   </g>\r\n   <g id=\"patch_43\">\r\n    <path clip-path=\"url(#p030cb4b42a)\" d=\"M 252.662631 253.1955 \r\nL 256.007286 253.1955 \r\nL 256.007286 46.109786 \r\nL 252.662631 46.109786 \r\nz\r\n\" style=\"fill:#2ca02c;\"/>\r\n   </g>\r\n   <g id=\"patch_44\">\r\n    <path clip-path=\"url(#p030cb4b42a)\" d=\"M 256.007286 253.1955 \r\nL 259.351942 253.1955 \r\nL 259.351942 170.361214 \r\nL 256.007286 170.361214 \r\nz\r\n\" style=\"fill:#2ca02c;\"/>\r\n   </g>\r\n   <g id=\"patch_45\">\r\n    <path clip-path=\"url(#p030cb4b42a)\" d=\"M 259.351942 253.1955 \r\nL 262.696597 253.1955 \r\nL 262.696597 222.132643 \r\nL 259.351942 222.132643 \r\nz\r\n\" style=\"fill:#2ca02c;\"/>\r\n   </g>\r\n   <g id=\"patch_46\">\r\n    <path clip-path=\"url(#p030cb4b42a)\" d=\"M 262.696597 253.1955 \r\nL 266.041252 253.1955 \r\nL 266.041252 108.2355 \r\nL 262.696597 108.2355 \r\nz\r\n\" style=\"fill:#2ca02c;\"/>\r\n   </g>\r\n   <g id=\"patch_47\">\r\n    <path clip-path=\"url(#p030cb4b42a)\" d=\"M 266.041252 253.1955 \r\nL 269.385908 253.1955 \r\nL 269.385908 211.778357 \r\nL 266.041252 211.778357 \r\nz\r\n\" style=\"fill:#2ca02c;\"/>\r\n   </g>\r\n   <g id=\"patch_48\">\r\n    <path clip-path=\"url(#p030cb4b42a)\" d=\"M 269.385908 253.1955 \r\nL 272.730563 253.1955 \r\nL 272.730563 222.132643 \r\nL 269.385908 222.132643 \r\nz\r\n\" style=\"fill:#2ca02c;\"/>\r\n   </g>\r\n   <g id=\"patch_49\">\r\n    <path clip-path=\"url(#p030cb4b42a)\" d=\"M 272.730563 253.1955 \r\nL 276.075219 253.1955 \r\nL 276.075219 180.7155 \r\nL 272.730563 180.7155 \r\nz\r\n\" style=\"fill:#2ca02c;\"/>\r\n   </g>\r\n   <g id=\"patch_50\">\r\n    <path clip-path=\"url(#p030cb4b42a)\" d=\"M 276.075219 253.1955 \r\nL 279.419874 253.1955 \r\nL 279.419874 180.7155 \r\nL 276.075219 180.7155 \r\nz\r\n\" style=\"fill:#2ca02c;\"/>\r\n   </g>\r\n   <g id=\"patch_51\">\r\n    <path clip-path=\"url(#p030cb4b42a)\" d=\"M 279.419874 253.1955 \r\nL 282.764529 253.1955 \r\nL 282.764529 170.361214 \r\nL 279.419874 170.361214 \r\nz\r\n\" style=\"fill:#2ca02c;\"/>\r\n   </g>\r\n   <g id=\"patch_52\">\r\n    <path clip-path=\"url(#p030cb4b42a)\" d=\"M 282.764529 253.1955 \r\nL 286.109185 253.1955 \r\nL 286.109185 180.7155 \r\nL 282.764529 180.7155 \r\nz\r\n\" style=\"fill:#2ca02c;\"/>\r\n   </g>\r\n   <g id=\"patch_53\">\r\n    <path clip-path=\"url(#p030cb4b42a)\" d=\"M 286.109185 253.1955 \r\nL 289.45384 253.1955 \r\nL 289.45384 211.778357 \r\nL 286.109185 211.778357 \r\nz\r\n\" style=\"fill:#2ca02c;\"/>\r\n   </g>\r\n   <g id=\"patch_54\">\r\n    <path clip-path=\"url(#p030cb4b42a)\" d=\"M 289.45384 253.1955 \r\nL 292.798495 253.1955 \r\nL 292.798495 191.069786 \r\nL 289.45384 191.069786 \r\nz\r\n\" style=\"fill:#2ca02c;\"/>\r\n   </g>\r\n   <g id=\"patch_55\">\r\n    <path clip-path=\"url(#p030cb4b42a)\" d=\"M 292.798495 253.1955 \r\nL 296.143151 253.1955 \r\nL 296.143151 201.424071 \r\nL 292.798495 201.424071 \r\nz\r\n\" style=\"fill:#2ca02c;\"/>\r\n   </g>\r\n   <g id=\"patch_56\">\r\n    <path clip-path=\"url(#p030cb4b42a)\" d=\"M 296.143151 253.1955 \r\nL 299.487806 253.1955 \r\nL 299.487806 222.132643 \r\nL 296.143151 222.132643 \r\nz\r\n\" style=\"fill:#2ca02c;\"/>\r\n   </g>\r\n   <g id=\"patch_57\">\r\n    <path clip-path=\"url(#p030cb4b42a)\" d=\"M 299.487806 253.1955 \r\nL 302.832461 253.1955 \r\nL 302.832461 211.778357 \r\nL 299.487806 211.778357 \r\nz\r\n\" style=\"fill:#2ca02c;\"/>\r\n   </g>\r\n   <g id=\"patch_58\">\r\n    <path clip-path=\"url(#p030cb4b42a)\" d=\"M 302.832461 253.1955 \r\nL 306.177117 253.1955 \r\nL 306.177117 222.132643 \r\nL 302.832461 222.132643 \r\nz\r\n\" style=\"fill:#2ca02c;\"/>\r\n   </g>\r\n   <g id=\"patch_59\">\r\n    <path clip-path=\"url(#p030cb4b42a)\" d=\"M 306.177117 253.1955 \r\nL 309.521772 253.1955 \r\nL 309.521772 242.841214 \r\nL 306.177117 242.841214 \r\nz\r\n\" style=\"fill:#2ca02c;\"/>\r\n   </g>\r\n   <g id=\"patch_60\">\r\n    <path clip-path=\"url(#p030cb4b42a)\" d=\"M 309.521772 253.1955 \r\nL 312.866427 253.1955 \r\nL 312.866427 222.132643 \r\nL 309.521772 222.132643 \r\nz\r\n\" style=\"fill:#2ca02c;\"/>\r\n   </g>\r\n   <g id=\"patch_61\">\r\n    <path clip-path=\"url(#p030cb4b42a)\" d=\"M 312.866427 253.1955 \r\nL 319.555738 253.1955 \r\nL 319.555738 232.486929 \r\nL 312.866427 232.486929 \r\nz\r\n\" style=\"fill:#2ca02c;\"/>\r\n   </g>\r\n   <g id=\"patch_62\">\r\n    <path clip-path=\"url(#p030cb4b42a)\" d=\"M 319.555738 253.1955 \r\nL 326.245049 253.1955 \r\nL 326.245049 222.132643 \r\nL 319.555738 222.132643 \r\nz\r\n\" style=\"fill:#2ca02c;\"/>\r\n   </g>\r\n   <g id=\"patch_63\">\r\n    <path clip-path=\"url(#p030cb4b42a)\" d=\"M 326.245049 253.1955 \r\nL 329.589704 253.1955 \r\nL 329.589704 253.1955 \r\nL 326.245049 253.1955 \r\nz\r\n\" style=\"fill:#2ca02c;\"/>\r\n   </g>\r\n   <g id=\"patch_64\">\r\n    <path clip-path=\"url(#p030cb4b42a)\" d=\"M 329.589704 253.1955 \r\nL 332.934359 253.1955 \r\nL 332.934359 222.132643 \r\nL 329.589704 222.132643 \r\nz\r\n\" style=\"fill:#2ca02c;\"/>\r\n   </g>\r\n   <g id=\"patch_65\">\r\n    <path clip-path=\"url(#p030cb4b42a)\" d=\"M 332.934359 253.1955 \r\nL 339.62367 253.1955 \r\nL 339.62367 222.132643 \r\nL 332.934359 222.132643 \r\nz\r\n\" style=\"fill:#2ca02c;\"/>\r\n   </g>\r\n   <g id=\"patch_66\">\r\n    <path clip-path=\"url(#p030cb4b42a)\" d=\"M 339.62367 253.1955 \r\nL 346.312981 253.1955 \r\nL 346.312981 253.1955 \r\nL 339.62367 253.1955 \r\nz\r\n\" style=\"fill:#2ca02c;\"/>\r\n   </g>\r\n   <g id=\"patch_67\">\r\n    <path clip-path=\"url(#p030cb4b42a)\" d=\"M 346.312981 253.1955 \r\nL 349.657636 253.1955 \r\nL 349.657636 232.486929 \r\nL 346.312981 232.486929 \r\nz\r\n\" style=\"fill:#2ca02c;\"/>\r\n   </g>\r\n   <g id=\"patch_68\">\r\n    <path clip-path=\"url(#p030cb4b42a)\" d=\"M 349.657636 253.1955 \r\nL 359.691602 253.1955 \r\nL 359.691602 253.1955 \r\nL 349.657636 253.1955 \r\nz\r\n\" style=\"fill:#2ca02c;\"/>\r\n   </g>\r\n   <g id=\"patch_69\">\r\n    <path clip-path=\"url(#p030cb4b42a)\" d=\"M 359.691602 253.1955 \r\nL 363.036257 253.1955 \r\nL 363.036257 242.841214 \r\nL 359.691602 242.841214 \r\nz\r\n\" style=\"fill:#2ca02c;\"/>\r\n   </g>\r\n   <g id=\"patch_70\">\r\n    <path clip-path=\"url(#p030cb4b42a)\" d=\"M 363.036257 253.1955 \r\nL 366.380913 253.1955 \r\nL 366.380913 232.486929 \r\nL 363.036257 232.486929 \r\nz\r\n\" style=\"fill:#2ca02c;\"/>\r\n   </g>\r\n   <g id=\"patch_71\">\r\n    <path clip-path=\"url(#p030cb4b42a)\" d=\"M 366.380913 253.1955 \r\nL 369.725568 253.1955 \r\nL 369.725568 253.1955 \r\nL 366.380913 253.1955 \r\nz\r\n\" style=\"fill:#2ca02c;\"/>\r\n   </g>\r\n   <g id=\"matplotlib.axis_1\">\r\n    <g id=\"xtick_1\">\r\n     <g id=\"line2d_1\">\r\n      <defs>\r\n       <path d=\"M 0 0 \r\nL 0 3.5 \r\n\" id=\"ma96bc25243\" style=\"stroke:#000000;stroke-width:0.8;\"/>\r\n      </defs>\r\n      <g>\r\n       <use style=\"stroke:#000000;stroke-width:0.8;\" x=\"108.842451\" xlink:href=\"#ma96bc25243\" y=\"253.1955\"/>\r\n      </g>\r\n     </g>\r\n     <g id=\"text_1\">\r\n      <!-- −40 -->\r\n      <defs>\r\n       <path d=\"M 10.59375 35.5 \r\nL 73.1875 35.5 \r\nL 73.1875 27.203125 \r\nL 10.59375 27.203125 \r\nz\r\n\" id=\"DejaVuSans-8722\"/>\r\n       <path d=\"M 37.796875 64.3125 \r\nL 12.890625 25.390625 \r\nL 37.796875 25.390625 \r\nz\r\nM 35.203125 72.90625 \r\nL 47.609375 72.90625 \r\nL 47.609375 25.390625 \r\nL 58.015625 25.390625 \r\nL 58.015625 17.1875 \r\nL 47.609375 17.1875 \r\nL 47.609375 0 \r\nL 37.796875 0 \r\nL 37.796875 17.1875 \r\nL 4.890625 17.1875 \r\nL 4.890625 26.703125 \r\nz\r\n\" id=\"DejaVuSans-52\"/>\r\n       <path d=\"M 31.78125 66.40625 \r\nQ 24.171875 66.40625 20.328125 58.90625 \r\nQ 16.5 51.421875 16.5 36.375 \r\nQ 16.5 21.390625 20.328125 13.890625 \r\nQ 24.171875 6.390625 31.78125 6.390625 \r\nQ 39.453125 6.390625 43.28125 13.890625 \r\nQ 47.125 21.390625 47.125 36.375 \r\nQ 47.125 51.421875 43.28125 58.90625 \r\nQ 39.453125 66.40625 31.78125 66.40625 \r\nz\r\nM 31.78125 74.21875 \r\nQ 44.046875 74.21875 50.515625 64.515625 \r\nQ 56.984375 54.828125 56.984375 36.375 \r\nQ 56.984375 17.96875 50.515625 8.265625 \r\nQ 44.046875 -1.421875 31.78125 -1.421875 \r\nQ 19.53125 -1.421875 13.0625 8.265625 \r\nQ 6.59375 17.96875 6.59375 36.375 \r\nQ 6.59375 54.828125 13.0625 64.515625 \r\nQ 19.53125 74.21875 31.78125 74.21875 \r\nz\r\n\" id=\"DejaVuSans-48\"/>\r\n      </defs>\r\n      <g transform=\"translate(98.290108 267.793937)scale(0.1 -0.1)\">\r\n       <use xlink:href=\"#DejaVuSans-8722\"/>\r\n       <use x=\"83.789062\" xlink:href=\"#DejaVuSans-52\"/>\r\n       <use x=\"147.412109\" xlink:href=\"#DejaVuSans-48\"/>\r\n      </g>\r\n     </g>\r\n    </g>\r\n    <g id=\"xtick_2\">\r\n     <g id=\"line2d_2\">\r\n      <g>\r\n       <use style=\"stroke:#000000;stroke-width:0.8;\" x=\"175.735558\" xlink:href=\"#ma96bc25243\" y=\"253.1955\"/>\r\n      </g>\r\n     </g>\r\n     <g id=\"text_2\">\r\n      <!-- −20 -->\r\n      <defs>\r\n       <path d=\"M 19.1875 8.296875 \r\nL 53.609375 8.296875 \r\nL 53.609375 0 \r\nL 7.328125 0 \r\nL 7.328125 8.296875 \r\nQ 12.9375 14.109375 22.625 23.890625 \r\nQ 32.328125 33.6875 34.8125 36.53125 \r\nQ 39.546875 41.84375 41.421875 45.53125 \r\nQ 43.3125 49.21875 43.3125 52.78125 \r\nQ 43.3125 58.59375 39.234375 62.25 \r\nQ 35.15625 65.921875 28.609375 65.921875 \r\nQ 23.96875 65.921875 18.8125 64.3125 \r\nQ 13.671875 62.703125 7.8125 59.421875 \r\nL 7.8125 69.390625 \r\nQ 13.765625 71.78125 18.9375 73 \r\nQ 24.125 74.21875 28.421875 74.21875 \r\nQ 39.75 74.21875 46.484375 68.546875 \r\nQ 53.21875 62.890625 53.21875 53.421875 \r\nQ 53.21875 48.921875 51.53125 44.890625 \r\nQ 49.859375 40.875 45.40625 35.40625 \r\nQ 44.1875 33.984375 37.640625 27.21875 \r\nQ 31.109375 20.453125 19.1875 8.296875 \r\nz\r\n\" id=\"DejaVuSans-50\"/>\r\n      </defs>\r\n      <g transform=\"translate(165.183214 267.793937)scale(0.1 -0.1)\">\r\n       <use xlink:href=\"#DejaVuSans-8722\"/>\r\n       <use x=\"83.789062\" xlink:href=\"#DejaVuSans-50\"/>\r\n       <use x=\"147.412109\" xlink:href=\"#DejaVuSans-48\"/>\r\n      </g>\r\n     </g>\r\n    </g>\r\n    <g id=\"xtick_3\">\r\n     <g id=\"line2d_3\">\r\n      <g>\r\n       <use style=\"stroke:#000000;stroke-width:0.8;\" x=\"242.628665\" xlink:href=\"#ma96bc25243\" y=\"253.1955\"/>\r\n      </g>\r\n     </g>\r\n     <g id=\"text_3\">\r\n      <!-- 0 -->\r\n      <g transform=\"translate(239.447415 267.793937)scale(0.1 -0.1)\">\r\n       <use xlink:href=\"#DejaVuSans-48\"/>\r\n      </g>\r\n     </g>\r\n    </g>\r\n    <g id=\"xtick_4\">\r\n     <g id=\"line2d_4\">\r\n      <g>\r\n       <use style=\"stroke:#000000;stroke-width:0.8;\" x=\"309.521772\" xlink:href=\"#ma96bc25243\" y=\"253.1955\"/>\r\n      </g>\r\n     </g>\r\n     <g id=\"text_4\">\r\n      <!-- 20 -->\r\n      <g transform=\"translate(303.159272 267.793937)scale(0.1 -0.1)\">\r\n       <use xlink:href=\"#DejaVuSans-50\"/>\r\n       <use x=\"63.623047\" xlink:href=\"#DejaVuSans-48\"/>\r\n      </g>\r\n     </g>\r\n    </g>\r\n    <g id=\"xtick_5\">\r\n     <g id=\"line2d_5\">\r\n      <g>\r\n       <use style=\"stroke:#000000;stroke-width:0.8;\" x=\"376.414879\" xlink:href=\"#ma96bc25243\" y=\"253.1955\"/>\r\n      </g>\r\n     </g>\r\n     <g id=\"text_5\">\r\n      <!-- 40 -->\r\n      <g transform=\"translate(370.052379 267.793937)scale(0.1 -0.1)\">\r\n       <use xlink:href=\"#DejaVuSans-52\"/>\r\n       <use x=\"63.623047\" xlink:href=\"#DejaVuSans-48\"/>\r\n      </g>\r\n     </g>\r\n    </g>\r\n    <g id=\"text_6\">\r\n     <!-- Error (units of wheat heads) -->\r\n     <defs>\r\n      <path d=\"M 9.8125 72.90625 \r\nL 55.90625 72.90625 \r\nL 55.90625 64.59375 \r\nL 19.671875 64.59375 \r\nL 19.671875 43.015625 \r\nL 54.390625 43.015625 \r\nL 54.390625 34.71875 \r\nL 19.671875 34.71875 \r\nL 19.671875 8.296875 \r\nL 56.78125 8.296875 \r\nL 56.78125 0 \r\nL 9.8125 0 \r\nz\r\n\" id=\"DejaVuSans-69\"/>\r\n      <path d=\"M 41.109375 46.296875 \r\nQ 39.59375 47.171875 37.8125 47.578125 \r\nQ 36.03125 48 33.890625 48 \r\nQ 26.265625 48 22.1875 43.046875 \r\nQ 18.109375 38.09375 18.109375 28.8125 \r\nL 18.109375 0 \r\nL 9.078125 0 \r\nL 9.078125 54.6875 \r\nL 18.109375 54.6875 \r\nL 18.109375 46.1875 \r\nQ 20.953125 51.171875 25.484375 53.578125 \r\nQ 30.03125 56 36.53125 56 \r\nQ 37.453125 56 38.578125 55.875 \r\nQ 39.703125 55.765625 41.0625 55.515625 \r\nz\r\n\" id=\"DejaVuSans-114\"/>\r\n      <path d=\"M 30.609375 48.390625 \r\nQ 23.390625 48.390625 19.1875 42.75 \r\nQ 14.984375 37.109375 14.984375 27.296875 \r\nQ 14.984375 17.484375 19.15625 11.84375 \r\nQ 23.34375 6.203125 30.609375 6.203125 \r\nQ 37.796875 6.203125 41.984375 11.859375 \r\nQ 46.1875 17.53125 46.1875 27.296875 \r\nQ 46.1875 37.015625 41.984375 42.703125 \r\nQ 37.796875 48.390625 30.609375 48.390625 \r\nz\r\nM 30.609375 56 \r\nQ 42.328125 56 49.015625 48.375 \r\nQ 55.71875 40.765625 55.71875 27.296875 \r\nQ 55.71875 13.875 49.015625 6.21875 \r\nQ 42.328125 -1.421875 30.609375 -1.421875 \r\nQ 18.84375 -1.421875 12.171875 6.21875 \r\nQ 5.515625 13.875 5.515625 27.296875 \r\nQ 5.515625 40.765625 12.171875 48.375 \r\nQ 18.84375 56 30.609375 56 \r\nz\r\n\" id=\"DejaVuSans-111\"/>\r\n      <path id=\"DejaVuSans-32\"/>\r\n      <path d=\"M 31 75.875 \r\nQ 24.46875 64.65625 21.28125 53.65625 \r\nQ 18.109375 42.671875 18.109375 31.390625 \r\nQ 18.109375 20.125 21.3125 9.0625 \r\nQ 24.515625 -2 31 -13.1875 \r\nL 23.1875 -13.1875 \r\nQ 15.875 -1.703125 12.234375 9.375 \r\nQ 8.59375 20.453125 8.59375 31.390625 \r\nQ 8.59375 42.28125 12.203125 53.3125 \r\nQ 15.828125 64.359375 23.1875 75.875 \r\nz\r\n\" id=\"DejaVuSans-40\"/>\r\n      <path d=\"M 8.5 21.578125 \r\nL 8.5 54.6875 \r\nL 17.484375 54.6875 \r\nL 17.484375 21.921875 \r\nQ 17.484375 14.15625 20.5 10.265625 \r\nQ 23.53125 6.390625 29.59375 6.390625 \r\nQ 36.859375 6.390625 41.078125 11.03125 \r\nQ 45.3125 15.671875 45.3125 23.6875 \r\nL 45.3125 54.6875 \r\nL 54.296875 54.6875 \r\nL 54.296875 0 \r\nL 45.3125 0 \r\nL 45.3125 8.40625 \r\nQ 42.046875 3.421875 37.71875 1 \r\nQ 33.40625 -1.421875 27.6875 -1.421875 \r\nQ 18.265625 -1.421875 13.375 4.4375 \r\nQ 8.5 10.296875 8.5 21.578125 \r\nz\r\nM 31.109375 56 \r\nz\r\n\" id=\"DejaVuSans-117\"/>\r\n      <path d=\"M 54.890625 33.015625 \r\nL 54.890625 0 \r\nL 45.90625 0 \r\nL 45.90625 32.71875 \r\nQ 45.90625 40.484375 42.875 44.328125 \r\nQ 39.84375 48.1875 33.796875 48.1875 \r\nQ 26.515625 48.1875 22.3125 43.546875 \r\nQ 18.109375 38.921875 18.109375 30.90625 \r\nL 18.109375 0 \r\nL 9.078125 0 \r\nL 9.078125 54.6875 \r\nL 18.109375 54.6875 \r\nL 18.109375 46.1875 \r\nQ 21.34375 51.125 25.703125 53.5625 \r\nQ 30.078125 56 35.796875 56 \r\nQ 45.21875 56 50.046875 50.171875 \r\nQ 54.890625 44.34375 54.890625 33.015625 \r\nz\r\n\" id=\"DejaVuSans-110\"/>\r\n      <path d=\"M 9.421875 54.6875 \r\nL 18.40625 54.6875 \r\nL 18.40625 0 \r\nL 9.421875 0 \r\nz\r\nM 9.421875 75.984375 \r\nL 18.40625 75.984375 \r\nL 18.40625 64.59375 \r\nL 9.421875 64.59375 \r\nz\r\n\" id=\"DejaVuSans-105\"/>\r\n      <path d=\"M 18.3125 70.21875 \r\nL 18.3125 54.6875 \r\nL 36.8125 54.6875 \r\nL 36.8125 47.703125 \r\nL 18.3125 47.703125 \r\nL 18.3125 18.015625 \r\nQ 18.3125 11.328125 20.140625 9.421875 \r\nQ 21.96875 7.515625 27.59375 7.515625 \r\nL 36.8125 7.515625 \r\nL 36.8125 0 \r\nL 27.59375 0 \r\nQ 17.1875 0 13.234375 3.875 \r\nQ 9.28125 7.765625 9.28125 18.015625 \r\nL 9.28125 47.703125 \r\nL 2.6875 47.703125 \r\nL 2.6875 54.6875 \r\nL 9.28125 54.6875 \r\nL 9.28125 70.21875 \r\nz\r\n\" id=\"DejaVuSans-116\"/>\r\n      <path d=\"M 44.28125 53.078125 \r\nL 44.28125 44.578125 \r\nQ 40.484375 46.53125 36.375 47.5 \r\nQ 32.28125 48.484375 27.875 48.484375 \r\nQ 21.1875 48.484375 17.84375 46.4375 \r\nQ 14.5 44.390625 14.5 40.28125 \r\nQ 14.5 37.15625 16.890625 35.375 \r\nQ 19.28125 33.59375 26.515625 31.984375 \r\nL 29.59375 31.296875 \r\nQ 39.15625 29.25 43.1875 25.515625 \r\nQ 47.21875 21.78125 47.21875 15.09375 \r\nQ 47.21875 7.46875 41.1875 3.015625 \r\nQ 35.15625 -1.421875 24.609375 -1.421875 \r\nQ 20.21875 -1.421875 15.453125 -0.5625 \r\nQ 10.6875 0.296875 5.421875 2 \r\nL 5.421875 11.28125 \r\nQ 10.40625 8.6875 15.234375 7.390625 \r\nQ 20.0625 6.109375 24.8125 6.109375 \r\nQ 31.15625 6.109375 34.5625 8.28125 \r\nQ 37.984375 10.453125 37.984375 14.40625 \r\nQ 37.984375 18.0625 35.515625 20.015625 \r\nQ 33.0625 21.96875 24.703125 23.78125 \r\nL 21.578125 24.515625 \r\nQ 13.234375 26.265625 9.515625 29.90625 \r\nQ 5.8125 33.546875 5.8125 39.890625 \r\nQ 5.8125 47.609375 11.28125 51.796875 \r\nQ 16.75 56 26.8125 56 \r\nQ 31.78125 56 36.171875 55.265625 \r\nQ 40.578125 54.546875 44.28125 53.078125 \r\nz\r\n\" id=\"DejaVuSans-115\"/>\r\n      <path d=\"M 37.109375 75.984375 \r\nL 37.109375 68.5 \r\nL 28.515625 68.5 \r\nQ 23.6875 68.5 21.796875 66.546875 \r\nQ 19.921875 64.59375 19.921875 59.515625 \r\nL 19.921875 54.6875 \r\nL 34.71875 54.6875 \r\nL 34.71875 47.703125 \r\nL 19.921875 47.703125 \r\nL 19.921875 0 \r\nL 10.890625 0 \r\nL 10.890625 47.703125 \r\nL 2.296875 47.703125 \r\nL 2.296875 54.6875 \r\nL 10.890625 54.6875 \r\nL 10.890625 58.5 \r\nQ 10.890625 67.625 15.140625 71.796875 \r\nQ 19.390625 75.984375 28.609375 75.984375 \r\nz\r\n\" id=\"DejaVuSans-102\"/>\r\n      <path d=\"M 4.203125 54.6875 \r\nL 13.1875 54.6875 \r\nL 24.421875 12.015625 \r\nL 35.59375 54.6875 \r\nL 46.1875 54.6875 \r\nL 57.421875 12.015625 \r\nL 68.609375 54.6875 \r\nL 77.59375 54.6875 \r\nL 63.28125 0 \r\nL 52.6875 0 \r\nL 40.921875 44.828125 \r\nL 29.109375 0 \r\nL 18.5 0 \r\nz\r\n\" id=\"DejaVuSans-119\"/>\r\n      <path d=\"M 54.890625 33.015625 \r\nL 54.890625 0 \r\nL 45.90625 0 \r\nL 45.90625 32.71875 \r\nQ 45.90625 40.484375 42.875 44.328125 \r\nQ 39.84375 48.1875 33.796875 48.1875 \r\nQ 26.515625 48.1875 22.3125 43.546875 \r\nQ 18.109375 38.921875 18.109375 30.90625 \r\nL 18.109375 0 \r\nL 9.078125 0 \r\nL 9.078125 75.984375 \r\nL 18.109375 75.984375 \r\nL 18.109375 46.1875 \r\nQ 21.34375 51.125 25.703125 53.5625 \r\nQ 30.078125 56 35.796875 56 \r\nQ 45.21875 56 50.046875 50.171875 \r\nQ 54.890625 44.34375 54.890625 33.015625 \r\nz\r\n\" id=\"DejaVuSans-104\"/>\r\n      <path d=\"M 56.203125 29.59375 \r\nL 56.203125 25.203125 \r\nL 14.890625 25.203125 \r\nQ 15.484375 15.921875 20.484375 11.0625 \r\nQ 25.484375 6.203125 34.421875 6.203125 \r\nQ 39.59375 6.203125 44.453125 7.46875 \r\nQ 49.3125 8.734375 54.109375 11.28125 \r\nL 54.109375 2.78125 \r\nQ 49.265625 0.734375 44.1875 -0.34375 \r\nQ 39.109375 -1.421875 33.890625 -1.421875 \r\nQ 20.796875 -1.421875 13.15625 6.1875 \r\nQ 5.515625 13.8125 5.515625 26.8125 \r\nQ 5.515625 40.234375 12.765625 48.109375 \r\nQ 20.015625 56 32.328125 56 \r\nQ 43.359375 56 49.78125 48.890625 \r\nQ 56.203125 41.796875 56.203125 29.59375 \r\nz\r\nM 47.21875 32.234375 \r\nQ 47.125 39.59375 43.09375 43.984375 \r\nQ 39.0625 48.390625 32.421875 48.390625 \r\nQ 24.90625 48.390625 20.390625 44.140625 \r\nQ 15.875 39.890625 15.1875 32.171875 \r\nz\r\n\" id=\"DejaVuSans-101\"/>\r\n      <path d=\"M 34.28125 27.484375 \r\nQ 23.390625 27.484375 19.1875 25 \r\nQ 14.984375 22.515625 14.984375 16.5 \r\nQ 14.984375 11.71875 18.140625 8.90625 \r\nQ 21.296875 6.109375 26.703125 6.109375 \r\nQ 34.1875 6.109375 38.703125 11.40625 \r\nQ 43.21875 16.703125 43.21875 25.484375 \r\nL 43.21875 27.484375 \r\nz\r\nM 52.203125 31.203125 \r\nL 52.203125 0 \r\nL 43.21875 0 \r\nL 43.21875 8.296875 \r\nQ 40.140625 3.328125 35.546875 0.953125 \r\nQ 30.953125 -1.421875 24.3125 -1.421875 \r\nQ 15.921875 -1.421875 10.953125 3.296875 \r\nQ 6 8.015625 6 15.921875 \r\nQ 6 25.140625 12.171875 29.828125 \r\nQ 18.359375 34.515625 30.609375 34.515625 \r\nL 43.21875 34.515625 \r\nL 43.21875 35.40625 \r\nQ 43.21875 41.609375 39.140625 45 \r\nQ 35.0625 48.390625 27.6875 48.390625 \r\nQ 23 48.390625 18.546875 47.265625 \r\nQ 14.109375 46.140625 10.015625 43.890625 \r\nL 10.015625 52.203125 \r\nQ 14.9375 54.109375 19.578125 55.046875 \r\nQ 24.21875 56 28.609375 56 \r\nQ 40.484375 56 46.34375 49.84375 \r\nQ 52.203125 43.703125 52.203125 31.203125 \r\nz\r\n\" id=\"DejaVuSans-97\"/>\r\n      <path d=\"M 45.40625 46.390625 \r\nL 45.40625 75.984375 \r\nL 54.390625 75.984375 \r\nL 54.390625 0 \r\nL 45.40625 0 \r\nL 45.40625 8.203125 \r\nQ 42.578125 3.328125 38.25 0.953125 \r\nQ 33.9375 -1.421875 27.875 -1.421875 \r\nQ 17.96875 -1.421875 11.734375 6.484375 \r\nQ 5.515625 14.40625 5.515625 27.296875 \r\nQ 5.515625 40.1875 11.734375 48.09375 \r\nQ 17.96875 56 27.875 56 \r\nQ 33.9375 56 38.25 53.625 \r\nQ 42.578125 51.265625 45.40625 46.390625 \r\nz\r\nM 14.796875 27.296875 \r\nQ 14.796875 17.390625 18.875 11.75 \r\nQ 22.953125 6.109375 30.078125 6.109375 \r\nQ 37.203125 6.109375 41.296875 11.75 \r\nQ 45.40625 17.390625 45.40625 27.296875 \r\nQ 45.40625 37.203125 41.296875 42.84375 \r\nQ 37.203125 48.484375 30.078125 48.484375 \r\nQ 22.953125 48.484375 18.875 42.84375 \r\nQ 14.796875 37.203125 14.796875 27.296875 \r\nz\r\n\" id=\"DejaVuSans-100\"/>\r\n      <path d=\"M 8.015625 75.875 \r\nL 15.828125 75.875 \r\nQ 23.140625 64.359375 26.78125 53.3125 \r\nQ 30.421875 42.28125 30.421875 31.390625 \r\nQ 30.421875 20.453125 26.78125 9.375 \r\nQ 23.140625 -1.703125 15.828125 -13.1875 \r\nL 8.015625 -13.1875 \r\nQ 14.5 -2 17.703125 9.0625 \r\nQ 20.90625 20.125 20.90625 31.390625 \r\nQ 20.90625 42.671875 17.703125 53.65625 \r\nQ 14.5 64.65625 8.015625 75.875 \r\nz\r\n\" id=\"DejaVuSans-41\"/>\r\n     </defs>\r\n     <g transform=\"translate(147.542969 281.472062)scale(0.1 -0.1)\">\r\n      <use xlink:href=\"#DejaVuSans-69\"/>\r\n      <use x=\"63.183594\" xlink:href=\"#DejaVuSans-114\"/>\r\n      <use x=\"102.546875\" xlink:href=\"#DejaVuSans-114\"/>\r\n      <use x=\"141.410156\" xlink:href=\"#DejaVuSans-111\"/>\r\n      <use x=\"202.591797\" xlink:href=\"#DejaVuSans-114\"/>\r\n      <use x=\"243.705078\" xlink:href=\"#DejaVuSans-32\"/>\r\n      <use x=\"275.492188\" xlink:href=\"#DejaVuSans-40\"/>\r\n      <use x=\"314.505859\" xlink:href=\"#DejaVuSans-117\"/>\r\n      <use x=\"377.884766\" xlink:href=\"#DejaVuSans-110\"/>\r\n      <use x=\"441.263672\" xlink:href=\"#DejaVuSans-105\"/>\r\n      <use x=\"469.046875\" xlink:href=\"#DejaVuSans-116\"/>\r\n      <use x=\"508.255859\" xlink:href=\"#DejaVuSans-115\"/>\r\n      <use x=\"560.355469\" xlink:href=\"#DejaVuSans-32\"/>\r\n      <use x=\"592.142578\" xlink:href=\"#DejaVuSans-111\"/>\r\n      <use x=\"653.324219\" xlink:href=\"#DejaVuSans-102\"/>\r\n      <use x=\"688.529297\" xlink:href=\"#DejaVuSans-32\"/>\r\n      <use x=\"720.316406\" xlink:href=\"#DejaVuSans-119\"/>\r\n      <use x=\"802.103516\" xlink:href=\"#DejaVuSans-104\"/>\r\n      <use x=\"865.482422\" xlink:href=\"#DejaVuSans-101\"/>\r\n      <use x=\"927.005859\" xlink:href=\"#DejaVuSans-97\"/>\r\n      <use x=\"988.285156\" xlink:href=\"#DejaVuSans-116\"/>\r\n      <use x=\"1027.494141\" xlink:href=\"#DejaVuSans-32\"/>\r\n      <use x=\"1059.28125\" xlink:href=\"#DejaVuSans-104\"/>\r\n      <use x=\"1122.660156\" xlink:href=\"#DejaVuSans-101\"/>\r\n      <use x=\"1184.183594\" xlink:href=\"#DejaVuSans-97\"/>\r\n      <use x=\"1245.462891\" xlink:href=\"#DejaVuSans-100\"/>\r\n      <use x=\"1308.939453\" xlink:href=\"#DejaVuSans-115\"/>\r\n      <use x=\"1361.039062\" xlink:href=\"#DejaVuSans-41\"/>\r\n     </g>\r\n    </g>\r\n   </g>\r\n   <g id=\"matplotlib.axis_2\">\r\n    <g id=\"ytick_1\">\r\n     <g id=\"line2d_6\">\r\n      <defs>\r\n       <path d=\"M 0 0 \r\nL -3.5 0 \r\n\" id=\"m16b28ca637\" style=\"stroke:#2ca02c;stroke-width:0.8;\"/>\r\n      </defs>\r\n      <g>\r\n       <use style=\"fill:#2ca02c;stroke:#2ca02c;stroke-width:0.8;\" x=\"50.14375\" xlink:href=\"#m16b28ca637\" y=\"253.1955\"/>\r\n      </g>\r\n     </g>\r\n     <g id=\"text_7\">\r\n      <!-- 0.0 -->\r\n      <defs>\r\n       <path d=\"M 10.6875 12.40625 \r\nL 21 12.40625 \r\nL 21 0 \r\nL 10.6875 0 \r\nz\r\n\" id=\"DejaVuSans-46\"/>\r\n      </defs>\r\n      <g transform=\"translate(27.240625 256.994719)scale(0.1 -0.1)\">\r\n       <use xlink:href=\"#DejaVuSans-48\"/>\r\n       <use x=\"63.623047\" xlink:href=\"#DejaVuSans-46\"/>\r\n       <use x=\"95.410156\" xlink:href=\"#DejaVuSans-48\"/>\r\n      </g>\r\n     </g>\r\n    </g>\r\n    <g id=\"ytick_2\">\r\n     <g id=\"line2d_7\">\r\n      <g>\r\n       <use style=\"fill:#2ca02c;stroke:#2ca02c;stroke-width:0.8;\" x=\"50.14375\" xlink:href=\"#m16b28ca637\" y=\"227.309786\"/>\r\n      </g>\r\n     </g>\r\n     <g id=\"text_8\">\r\n      <!-- 2.5 -->\r\n      <defs>\r\n       <path d=\"M 10.796875 72.90625 \r\nL 49.515625 72.90625 \r\nL 49.515625 64.59375 \r\nL 19.828125 64.59375 \r\nL 19.828125 46.734375 \r\nQ 21.96875 47.46875 24.109375 47.828125 \r\nQ 26.265625 48.1875 28.421875 48.1875 \r\nQ 40.625 48.1875 47.75 41.5 \r\nQ 54.890625 34.8125 54.890625 23.390625 \r\nQ 54.890625 11.625 47.5625 5.09375 \r\nQ 40.234375 -1.421875 26.90625 -1.421875 \r\nQ 22.3125 -1.421875 17.546875 -0.640625 \r\nQ 12.796875 0.140625 7.71875 1.703125 \r\nL 7.71875 11.625 \r\nQ 12.109375 9.234375 16.796875 8.0625 \r\nQ 21.484375 6.890625 26.703125 6.890625 \r\nQ 35.15625 6.890625 40.078125 11.328125 \r\nQ 45.015625 15.765625 45.015625 23.390625 \r\nQ 45.015625 31 40.078125 35.4375 \r\nQ 35.15625 39.890625 26.703125 39.890625 \r\nQ 22.75 39.890625 18.8125 39.015625 \r\nQ 14.890625 38.140625 10.796875 36.28125 \r\nz\r\n\" id=\"DejaVuSans-53\"/>\r\n      </defs>\r\n      <g transform=\"translate(27.240625 231.109004)scale(0.1 -0.1)\">\r\n       <use xlink:href=\"#DejaVuSans-50\"/>\r\n       <use x=\"63.623047\" xlink:href=\"#DejaVuSans-46\"/>\r\n       <use x=\"95.410156\" xlink:href=\"#DejaVuSans-53\"/>\r\n      </g>\r\n     </g>\r\n    </g>\r\n    <g id=\"ytick_3\">\r\n     <g id=\"line2d_8\">\r\n      <g>\r\n       <use style=\"fill:#2ca02c;stroke:#2ca02c;stroke-width:0.8;\" x=\"50.14375\" xlink:href=\"#m16b28ca637\" y=\"201.424071\"/>\r\n      </g>\r\n     </g>\r\n     <g id=\"text_9\">\r\n      <!-- 5.0 -->\r\n      <g transform=\"translate(27.240625 205.22329)scale(0.1 -0.1)\">\r\n       <use xlink:href=\"#DejaVuSans-53\"/>\r\n       <use x=\"63.623047\" xlink:href=\"#DejaVuSans-46\"/>\r\n       <use x=\"95.410156\" xlink:href=\"#DejaVuSans-48\"/>\r\n      </g>\r\n     </g>\r\n    </g>\r\n    <g id=\"ytick_4\">\r\n     <g id=\"line2d_9\">\r\n      <g>\r\n       <use style=\"fill:#2ca02c;stroke:#2ca02c;stroke-width:0.8;\" x=\"50.14375\" xlink:href=\"#m16b28ca637\" y=\"175.538357\"/>\r\n      </g>\r\n     </g>\r\n     <g id=\"text_10\">\r\n      <!-- 7.5 -->\r\n      <defs>\r\n       <path d=\"M 8.203125 72.90625 \r\nL 55.078125 72.90625 \r\nL 55.078125 68.703125 \r\nL 28.609375 0 \r\nL 18.3125 0 \r\nL 43.21875 64.59375 \r\nL 8.203125 64.59375 \r\nz\r\n\" id=\"DejaVuSans-55\"/>\r\n      </defs>\r\n      <g transform=\"translate(27.240625 179.337576)scale(0.1 -0.1)\">\r\n       <use xlink:href=\"#DejaVuSans-55\"/>\r\n       <use x=\"63.623047\" xlink:href=\"#DejaVuSans-46\"/>\r\n       <use x=\"95.410156\" xlink:href=\"#DejaVuSans-53\"/>\r\n      </g>\r\n     </g>\r\n    </g>\r\n    <g id=\"ytick_5\">\r\n     <g id=\"line2d_10\">\r\n      <g>\r\n       <use style=\"fill:#2ca02c;stroke:#2ca02c;stroke-width:0.8;\" x=\"50.14375\" xlink:href=\"#m16b28ca637\" y=\"149.652643\"/>\r\n      </g>\r\n     </g>\r\n     <g id=\"text_11\">\r\n      <!-- 10.0 -->\r\n      <defs>\r\n       <path d=\"M 12.40625 8.296875 \r\nL 28.515625 8.296875 \r\nL 28.515625 63.921875 \r\nL 10.984375 60.40625 \r\nL 10.984375 69.390625 \r\nL 28.421875 72.90625 \r\nL 38.28125 72.90625 \r\nL 38.28125 8.296875 \r\nL 54.390625 8.296875 \r\nL 54.390625 0 \r\nL 12.40625 0 \r\nz\r\n\" id=\"DejaVuSans-49\"/>\r\n      </defs>\r\n      <g transform=\"translate(20.878125 153.451862)scale(0.1 -0.1)\">\r\n       <use xlink:href=\"#DejaVuSans-49\"/>\r\n       <use x=\"63.623047\" xlink:href=\"#DejaVuSans-48\"/>\r\n       <use x=\"127.246094\" xlink:href=\"#DejaVuSans-46\"/>\r\n       <use x=\"159.033203\" xlink:href=\"#DejaVuSans-48\"/>\r\n      </g>\r\n     </g>\r\n    </g>\r\n    <g id=\"ytick_6\">\r\n     <g id=\"line2d_11\">\r\n      <g>\r\n       <use style=\"fill:#2ca02c;stroke:#2ca02c;stroke-width:0.8;\" x=\"50.14375\" xlink:href=\"#m16b28ca637\" y=\"123.766929\"/>\r\n      </g>\r\n     </g>\r\n     <g id=\"text_12\">\r\n      <!-- 12.5 -->\r\n      <g transform=\"translate(20.878125 127.566147)scale(0.1 -0.1)\">\r\n       <use xlink:href=\"#DejaVuSans-49\"/>\r\n       <use x=\"63.623047\" xlink:href=\"#DejaVuSans-50\"/>\r\n       <use x=\"127.246094\" xlink:href=\"#DejaVuSans-46\"/>\r\n       <use x=\"159.033203\" xlink:href=\"#DejaVuSans-53\"/>\r\n      </g>\r\n     </g>\r\n    </g>\r\n    <g id=\"ytick_7\">\r\n     <g id=\"line2d_12\">\r\n      <g>\r\n       <use style=\"fill:#2ca02c;stroke:#2ca02c;stroke-width:0.8;\" x=\"50.14375\" xlink:href=\"#m16b28ca637\" y=\"97.881214\"/>\r\n      </g>\r\n     </g>\r\n     <g id=\"text_13\">\r\n      <!-- 15.0 -->\r\n      <g transform=\"translate(20.878125 101.680433)scale(0.1 -0.1)\">\r\n       <use xlink:href=\"#DejaVuSans-49\"/>\r\n       <use x=\"63.623047\" xlink:href=\"#DejaVuSans-53\"/>\r\n       <use x=\"127.246094\" xlink:href=\"#DejaVuSans-46\"/>\r\n       <use x=\"159.033203\" xlink:href=\"#DejaVuSans-48\"/>\r\n      </g>\r\n     </g>\r\n    </g>\r\n    <g id=\"ytick_8\">\r\n     <g id=\"line2d_13\">\r\n      <g>\r\n       <use style=\"fill:#2ca02c;stroke:#2ca02c;stroke-width:0.8;\" x=\"50.14375\" xlink:href=\"#m16b28ca637\" y=\"71.9955\"/>\r\n      </g>\r\n     </g>\r\n     <g id=\"text_14\">\r\n      <!-- 17.5 -->\r\n      <g transform=\"translate(20.878125 75.794719)scale(0.1 -0.1)\">\r\n       <use xlink:href=\"#DejaVuSans-49\"/>\r\n       <use x=\"63.623047\" xlink:href=\"#DejaVuSans-55\"/>\r\n       <use x=\"127.246094\" xlink:href=\"#DejaVuSans-46\"/>\r\n       <use x=\"159.033203\" xlink:href=\"#DejaVuSans-53\"/>\r\n      </g>\r\n     </g>\r\n    </g>\r\n    <g id=\"ytick_9\">\r\n     <g id=\"line2d_14\">\r\n      <g>\r\n       <use style=\"fill:#2ca02c;stroke:#2ca02c;stroke-width:0.8;\" x=\"50.14375\" xlink:href=\"#m16b28ca637\" y=\"46.109786\"/>\r\n      </g>\r\n     </g>\r\n     <g id=\"text_15\">\r\n      <!-- 20.0 -->\r\n      <g transform=\"translate(20.878125 49.909004)scale(0.1 -0.1)\">\r\n       <use xlink:href=\"#DejaVuSans-50\"/>\r\n       <use x=\"63.623047\" xlink:href=\"#DejaVuSans-48\"/>\r\n       <use x=\"127.246094\" xlink:href=\"#DejaVuSans-46\"/>\r\n       <use x=\"159.033203\" xlink:href=\"#DejaVuSans-48\"/>\r\n      </g>\r\n     </g>\r\n    </g>\r\n    <g id=\"text_16\">\r\n     <!-- Number of Images -->\r\n     <defs>\r\n      <path d=\"M 9.8125 72.90625 \r\nL 23.09375 72.90625 \r\nL 55.421875 11.921875 \r\nL 55.421875 72.90625 \r\nL 64.984375 72.90625 \r\nL 64.984375 0 \r\nL 51.703125 0 \r\nL 19.390625 60.984375 \r\nL 19.390625 0 \r\nL 9.8125 0 \r\nz\r\n\" id=\"DejaVuSans-78\"/>\r\n      <path d=\"M 52 44.1875 \r\nQ 55.375 50.25 60.0625 53.125 \r\nQ 64.75 56 71.09375 56 \r\nQ 79.640625 56 84.28125 50.015625 \r\nQ 88.921875 44.046875 88.921875 33.015625 \r\nL 88.921875 0 \r\nL 79.890625 0 \r\nL 79.890625 32.71875 \r\nQ 79.890625 40.578125 77.09375 44.375 \r\nQ 74.3125 48.1875 68.609375 48.1875 \r\nQ 61.625 48.1875 57.5625 43.546875 \r\nQ 53.515625 38.921875 53.515625 30.90625 \r\nL 53.515625 0 \r\nL 44.484375 0 \r\nL 44.484375 32.71875 \r\nQ 44.484375 40.625 41.703125 44.40625 \r\nQ 38.921875 48.1875 33.109375 48.1875 \r\nQ 26.21875 48.1875 22.15625 43.53125 \r\nQ 18.109375 38.875 18.109375 30.90625 \r\nL 18.109375 0 \r\nL 9.078125 0 \r\nL 9.078125 54.6875 \r\nL 18.109375 54.6875 \r\nL 18.109375 46.1875 \r\nQ 21.1875 51.21875 25.484375 53.609375 \r\nQ 29.78125 56 35.6875 56 \r\nQ 41.65625 56 45.828125 52.96875 \r\nQ 50 49.953125 52 44.1875 \r\nz\r\n\" id=\"DejaVuSans-109\"/>\r\n      <path d=\"M 48.6875 27.296875 \r\nQ 48.6875 37.203125 44.609375 42.84375 \r\nQ 40.53125 48.484375 33.40625 48.484375 \r\nQ 26.265625 48.484375 22.1875 42.84375 \r\nQ 18.109375 37.203125 18.109375 27.296875 \r\nQ 18.109375 17.390625 22.1875 11.75 \r\nQ 26.265625 6.109375 33.40625 6.109375 \r\nQ 40.53125 6.109375 44.609375 11.75 \r\nQ 48.6875 17.390625 48.6875 27.296875 \r\nz\r\nM 18.109375 46.390625 \r\nQ 20.953125 51.265625 25.265625 53.625 \r\nQ 29.59375 56 35.59375 56 \r\nQ 45.5625 56 51.78125 48.09375 \r\nQ 58.015625 40.1875 58.015625 27.296875 \r\nQ 58.015625 14.40625 51.78125 6.484375 \r\nQ 45.5625 -1.421875 35.59375 -1.421875 \r\nQ 29.59375 -1.421875 25.265625 0.953125 \r\nQ 20.953125 3.328125 18.109375 8.203125 \r\nL 18.109375 0 \r\nL 9.078125 0 \r\nL 9.078125 75.984375 \r\nL 18.109375 75.984375 \r\nz\r\n\" id=\"DejaVuSans-98\"/>\r\n      <path d=\"M 9.8125 72.90625 \r\nL 19.671875 72.90625 \r\nL 19.671875 0 \r\nL 9.8125 0 \r\nz\r\n\" id=\"DejaVuSans-73\"/>\r\n      <path d=\"M 45.40625 27.984375 \r\nQ 45.40625 37.75 41.375 43.109375 \r\nQ 37.359375 48.484375 30.078125 48.484375 \r\nQ 22.859375 48.484375 18.828125 43.109375 \r\nQ 14.796875 37.75 14.796875 27.984375 \r\nQ 14.796875 18.265625 18.828125 12.890625 \r\nQ 22.859375 7.515625 30.078125 7.515625 \r\nQ 37.359375 7.515625 41.375 12.890625 \r\nQ 45.40625 18.265625 45.40625 27.984375 \r\nz\r\nM 54.390625 6.78125 \r\nQ 54.390625 -7.171875 48.1875 -13.984375 \r\nQ 42 -20.796875 29.203125 -20.796875 \r\nQ 24.46875 -20.796875 20.265625 -20.09375 \r\nQ 16.0625 -19.390625 12.109375 -17.921875 \r\nL 12.109375 -9.1875 \r\nQ 16.0625 -11.328125 19.921875 -12.34375 \r\nQ 23.78125 -13.375 27.78125 -13.375 \r\nQ 36.625 -13.375 41.015625 -8.765625 \r\nQ 45.40625 -4.15625 45.40625 5.171875 \r\nL 45.40625 9.625 \r\nQ 42.625 4.78125 38.28125 2.390625 \r\nQ 33.9375 0 27.875 0 \r\nQ 17.828125 0 11.671875 7.65625 \r\nQ 5.515625 15.328125 5.515625 27.984375 \r\nQ 5.515625 40.671875 11.671875 48.328125 \r\nQ 17.828125 56 27.875 56 \r\nQ 33.9375 56 38.28125 53.609375 \r\nQ 42.625 51.21875 45.40625 46.390625 \r\nL 45.40625 54.6875 \r\nL 54.390625 54.6875 \r\nz\r\n\" id=\"DejaVuSans-103\"/>\r\n     </defs>\r\n     <g style=\"fill:#2ca02c;\" transform=\"translate(14.798438 190.823937)rotate(-90)scale(0.1 -0.1)\">\r\n      <use xlink:href=\"#DejaVuSans-78\"/>\r\n      <use x=\"74.804688\" xlink:href=\"#DejaVuSans-117\"/>\r\n      <use x=\"138.183594\" xlink:href=\"#DejaVuSans-109\"/>\r\n      <use x=\"235.595703\" xlink:href=\"#DejaVuSans-98\"/>\r\n      <use x=\"299.072266\" xlink:href=\"#DejaVuSans-101\"/>\r\n      <use x=\"360.595703\" xlink:href=\"#DejaVuSans-114\"/>\r\n      <use x=\"401.708984\" xlink:href=\"#DejaVuSans-32\"/>\r\n      <use x=\"433.496094\" xlink:href=\"#DejaVuSans-111\"/>\r\n      <use x=\"494.677734\" xlink:href=\"#DejaVuSans-102\"/>\r\n      <use x=\"529.882812\" xlink:href=\"#DejaVuSans-32\"/>\r\n      <use x=\"561.669922\" xlink:href=\"#DejaVuSans-73\"/>\r\n      <use x=\"591.162109\" xlink:href=\"#DejaVuSans-109\"/>\r\n      <use x=\"688.574219\" xlink:href=\"#DejaVuSans-97\"/>\r\n      <use x=\"749.853516\" xlink:href=\"#DejaVuSans-103\"/>\r\n      <use x=\"813.330078\" xlink:href=\"#DejaVuSans-101\"/>\r\n      <use x=\"874.853516\" xlink:href=\"#DejaVuSans-115\"/>\r\n     </g>\r\n    </g>\r\n   </g>\r\n   <g id=\"patch_72\">\r\n    <path d=\"M 50.14375 253.1955 \r\nL 50.14375 35.7555 \r\n\" style=\"fill:none;stroke:#000000;stroke-linecap:square;stroke-linejoin:miter;stroke-width:0.8;\"/>\r\n   </g>\r\n   <g id=\"patch_73\">\r\n    <path d=\"M 384.94375 253.1955 \r\nL 384.94375 35.7555 \r\n\" style=\"fill:none;stroke:#000000;stroke-linecap:square;stroke-linejoin:miter;stroke-width:0.8;\"/>\r\n   </g>\r\n   <g id=\"patch_74\">\r\n    <path d=\"M 50.14375 253.1955 \r\nL 384.94375 253.1955 \r\n\" style=\"fill:none;stroke:#000000;stroke-linecap:square;stroke-linejoin:miter;stroke-width:0.8;\"/>\r\n   </g>\r\n   <g id=\"patch_75\">\r\n    <path d=\"M 50.14375 35.7555 \r\nL 384.94375 35.7555 \r\n\" style=\"fill:none;stroke:#000000;stroke-linecap:square;stroke-linejoin:miter;stroke-width:0.8;\"/>\r\n   </g>\r\n  </g>\r\n  <g id=\"axes_2\">\r\n   <g id=\"matplotlib.axis_3\">\r\n    <g id=\"ytick_10\">\r\n     <g id=\"line2d_15\">\r\n      <defs>\r\n       <path d=\"M 0 0 \r\nL 3.5 0 \r\n\" id=\"m94248e9f76\" style=\"stroke:#d62728;stroke-width:0.8;\"/>\r\n      </defs>\r\n      <g>\r\n       <use style=\"fill:#d62728;stroke:#d62728;stroke-width:0.8;\" x=\"384.94375\" xlink:href=\"#m94248e9f76\" y=\"244.060401\"/>\r\n      </g>\r\n     </g>\r\n     <g id=\"text_17\">\r\n      <!-- 0.000 -->\r\n      <g transform=\"translate(391.94375 247.85962)scale(0.1 -0.1)\">\r\n       <use xlink:href=\"#DejaVuSans-48\"/>\r\n       <use x=\"63.623047\" xlink:href=\"#DejaVuSans-46\"/>\r\n       <use x=\"95.410156\" xlink:href=\"#DejaVuSans-48\"/>\r\n       <use x=\"159.033203\" xlink:href=\"#DejaVuSans-48\"/>\r\n       <use x=\"222.65625\" xlink:href=\"#DejaVuSans-48\"/>\r\n      </g>\r\n     </g>\r\n    </g>\r\n    <g id=\"ytick_11\">\r\n     <g id=\"line2d_16\">\r\n      <g>\r\n       <use style=\"fill:#d62728;stroke:#d62728;stroke-width:0.8;\" x=\"384.94375\" xlink:href=\"#m94248e9f76\" y=\"206.585901\"/>\r\n      </g>\r\n     </g>\r\n     <g id=\"text_18\">\r\n      <!-- 0.005 -->\r\n      <g transform=\"translate(391.94375 210.385119)scale(0.1 -0.1)\">\r\n       <use xlink:href=\"#DejaVuSans-48\"/>\r\n       <use x=\"63.623047\" xlink:href=\"#DejaVuSans-46\"/>\r\n       <use x=\"95.410156\" xlink:href=\"#DejaVuSans-48\"/>\r\n       <use x=\"159.033203\" xlink:href=\"#DejaVuSans-48\"/>\r\n       <use x=\"222.65625\" xlink:href=\"#DejaVuSans-53\"/>\r\n      </g>\r\n     </g>\r\n    </g>\r\n    <g id=\"ytick_12\">\r\n     <g id=\"line2d_17\">\r\n      <g>\r\n       <use style=\"fill:#d62728;stroke:#d62728;stroke-width:0.8;\" x=\"384.94375\" xlink:href=\"#m94248e9f76\" y=\"169.1114\"/>\r\n      </g>\r\n     </g>\r\n     <g id=\"text_19\">\r\n      <!-- 0.010 -->\r\n      <g transform=\"translate(391.94375 172.910618)scale(0.1 -0.1)\">\r\n       <use xlink:href=\"#DejaVuSans-48\"/>\r\n       <use x=\"63.623047\" xlink:href=\"#DejaVuSans-46\"/>\r\n       <use x=\"95.410156\" xlink:href=\"#DejaVuSans-48\"/>\r\n       <use x=\"159.033203\" xlink:href=\"#DejaVuSans-49\"/>\r\n       <use x=\"222.65625\" xlink:href=\"#DejaVuSans-48\"/>\r\n      </g>\r\n     </g>\r\n    </g>\r\n    <g id=\"ytick_13\">\r\n     <g id=\"line2d_18\">\r\n      <g>\r\n       <use style=\"fill:#d62728;stroke:#d62728;stroke-width:0.8;\" x=\"384.94375\" xlink:href=\"#m94248e9f76\" y=\"131.636899\"/>\r\n      </g>\r\n     </g>\r\n     <g id=\"text_20\">\r\n      <!-- 0.015 -->\r\n      <g transform=\"translate(391.94375 135.436118)scale(0.1 -0.1)\">\r\n       <use xlink:href=\"#DejaVuSans-48\"/>\r\n       <use x=\"63.623047\" xlink:href=\"#DejaVuSans-46\"/>\r\n       <use x=\"95.410156\" xlink:href=\"#DejaVuSans-48\"/>\r\n       <use x=\"159.033203\" xlink:href=\"#DejaVuSans-49\"/>\r\n       <use x=\"222.65625\" xlink:href=\"#DejaVuSans-53\"/>\r\n      </g>\r\n     </g>\r\n    </g>\r\n    <g id=\"ytick_14\">\r\n     <g id=\"line2d_19\">\r\n      <g>\r\n       <use style=\"fill:#d62728;stroke:#d62728;stroke-width:0.8;\" x=\"384.94375\" xlink:href=\"#m94248e9f76\" y=\"94.162398\"/>\r\n      </g>\r\n     </g>\r\n     <g id=\"text_21\">\r\n      <!-- 0.020 -->\r\n      <g transform=\"translate(391.94375 97.961617)scale(0.1 -0.1)\">\r\n       <use xlink:href=\"#DejaVuSans-48\"/>\r\n       <use x=\"63.623047\" xlink:href=\"#DejaVuSans-46\"/>\r\n       <use x=\"95.410156\" xlink:href=\"#DejaVuSans-48\"/>\r\n       <use x=\"159.033203\" xlink:href=\"#DejaVuSans-50\"/>\r\n       <use x=\"222.65625\" xlink:href=\"#DejaVuSans-48\"/>\r\n      </g>\r\n     </g>\r\n    </g>\r\n    <g id=\"ytick_15\">\r\n     <g id=\"line2d_20\">\r\n      <g>\r\n       <use style=\"fill:#d62728;stroke:#d62728;stroke-width:0.8;\" x=\"384.94375\" xlink:href=\"#m94248e9f76\" y=\"56.687897\"/>\r\n      </g>\r\n     </g>\r\n     <g id=\"text_22\">\r\n      <!-- 0.025 -->\r\n      <g transform=\"translate(391.94375 60.487116)scale(0.1 -0.1)\">\r\n       <use xlink:href=\"#DejaVuSans-48\"/>\r\n       <use x=\"63.623047\" xlink:href=\"#DejaVuSans-46\"/>\r\n       <use x=\"95.410156\" xlink:href=\"#DejaVuSans-48\"/>\r\n       <use x=\"159.033203\" xlink:href=\"#DejaVuSans-50\"/>\r\n       <use x=\"222.65625\" xlink:href=\"#DejaVuSans-53\"/>\r\n      </g>\r\n     </g>\r\n    </g>\r\n    <g id=\"text_23\">\r\n     <!-- Percentage of Images -->\r\n     <defs>\r\n      <path d=\"M 19.671875 64.796875 \r\nL 19.671875 37.40625 \r\nL 32.078125 37.40625 \r\nQ 38.96875 37.40625 42.71875 40.96875 \r\nQ 46.484375 44.53125 46.484375 51.125 \r\nQ 46.484375 57.671875 42.71875 61.234375 \r\nQ 38.96875 64.796875 32.078125 64.796875 \r\nz\r\nM 9.8125 72.90625 \r\nL 32.078125 72.90625 \r\nQ 44.34375 72.90625 50.609375 67.359375 \r\nQ 56.890625 61.8125 56.890625 51.125 \r\nQ 56.890625 40.328125 50.609375 34.8125 \r\nQ 44.34375 29.296875 32.078125 29.296875 \r\nL 19.671875 29.296875 \r\nL 19.671875 0 \r\nL 9.8125 0 \r\nz\r\n\" id=\"DejaVuSans-80\"/>\r\n      <path d=\"M 48.78125 52.59375 \r\nL 48.78125 44.1875 \r\nQ 44.96875 46.296875 41.140625 47.34375 \r\nQ 37.3125 48.390625 33.40625 48.390625 \r\nQ 24.65625 48.390625 19.8125 42.84375 \r\nQ 14.984375 37.3125 14.984375 27.296875 \r\nQ 14.984375 17.28125 19.8125 11.734375 \r\nQ 24.65625 6.203125 33.40625 6.203125 \r\nQ 37.3125 6.203125 41.140625 7.25 \r\nQ 44.96875 8.296875 48.78125 10.40625 \r\nL 48.78125 2.09375 \r\nQ 45.015625 0.34375 40.984375 -0.53125 \r\nQ 36.96875 -1.421875 32.421875 -1.421875 \r\nQ 20.0625 -1.421875 12.78125 6.34375 \r\nQ 5.515625 14.109375 5.515625 27.296875 \r\nQ 5.515625 40.671875 12.859375 48.328125 \r\nQ 20.21875 56 33.015625 56 \r\nQ 37.15625 56 41.109375 55.140625 \r\nQ 45.0625 54.296875 48.78125 52.59375 \r\nz\r\n\" id=\"DejaVuSans-99\"/>\r\n     </defs>\r\n     <g style=\"fill:#d62728;\" transform=\"translate(432.170313 198.860656)rotate(-90)scale(0.1 -0.1)\">\r\n      <use xlink:href=\"#DejaVuSans-80\"/>\r\n      <use x=\"56.677734\" xlink:href=\"#DejaVuSans-101\"/>\r\n      <use x=\"118.201172\" xlink:href=\"#DejaVuSans-114\"/>\r\n      <use x=\"157.064453\" xlink:href=\"#DejaVuSans-99\"/>\r\n      <use x=\"212.044922\" xlink:href=\"#DejaVuSans-101\"/>\r\n      <use x=\"273.568359\" xlink:href=\"#DejaVuSans-110\"/>\r\n      <use x=\"336.947266\" xlink:href=\"#DejaVuSans-116\"/>\r\n      <use x=\"376.15625\" xlink:href=\"#DejaVuSans-97\"/>\r\n      <use x=\"437.435547\" xlink:href=\"#DejaVuSans-103\"/>\r\n      <use x=\"500.912109\" xlink:href=\"#DejaVuSans-101\"/>\r\n      <use x=\"562.435547\" xlink:href=\"#DejaVuSans-32\"/>\r\n      <use x=\"594.222656\" xlink:href=\"#DejaVuSans-111\"/>\r\n      <use x=\"655.404297\" xlink:href=\"#DejaVuSans-102\"/>\r\n      <use x=\"690.609375\" xlink:href=\"#DejaVuSans-32\"/>\r\n      <use x=\"722.396484\" xlink:href=\"#DejaVuSans-73\"/>\r\n      <use x=\"751.888672\" xlink:href=\"#DejaVuSans-109\"/>\r\n      <use x=\"849.300781\" xlink:href=\"#DejaVuSans-97\"/>\r\n      <use x=\"910.580078\" xlink:href=\"#DejaVuSans-103\"/>\r\n      <use x=\"974.056641\" xlink:href=\"#DejaVuSans-101\"/>\r\n      <use x=\"1035.580078\" xlink:href=\"#DejaVuSans-115\"/>\r\n     </g>\r\n    </g>\r\n   </g>\r\n   <g id=\"line2d_21\">\r\n    <path clip-path=\"url(#p030cb4b42a)\" d=\"M 65.361932 243.311864 \r\nL 85.429864 241.444664 \r\nL 92.119175 240.228509 \r\nL 112.187107 233.222429 \r\nL 115.531762 231.369083 \r\nL 128.910383 221.225081 \r\nL 135.599694 214.228799 \r\nL 138.944349 210.188377 \r\nL 142.289005 205.769793 \r\nL 148.978315 195.770742 \r\nL 152.322971 190.188177 \r\nL 155.667626 184.224447 \r\nL 159.012281 177.892694 \r\nL 162.356937 171.212591 \r\nL 165.701592 164.210669 \r\nL 169.046248 156.920517 \r\nL 172.390903 149.382844 \r\nL 175.735558 141.645381 \r\nL 179.080214 133.762609 \r\nL 182.424869 125.795321 \r\nL 185.769524 117.809992 \r\nL 189.11418 109.877985 \r\nL 192.458835 102.074583 \r\nL 195.80349 94.477868 \r\nL 199.148146 87.167482 \r\nL 202.492801 80.223261 \r\nL 205.837456 73.723823 \r\nL 209.182112 67.745088 \r\nL 212.526767 62.358825 \r\nL 215.871422 57.631214 \r\nL 219.216078 53.6215 \r\nL 222.560733 50.380757 \r\nL 225.905388 47.950807 \r\nL 229.250044 46.363322 \r\nL 232.594699 45.639136 \r\nL 235.939354 45.787791 \r\nL 239.28401 46.807324 \r\nL 242.628665 48.684319 \r\nL 245.97332 51.39419 \r\nL 249.317976 54.901724 \r\nL 252.662631 59.161841 \r\nL 256.007286 64.120557 \r\nL 259.351942 69.716122 \r\nL 262.696597 75.880299 \r\nL 266.041252 82.539745 \r\nL 269.385908 89.617454 \r\nL 272.730563 97.034232 \r\nL 276.075219 104.710152 \r\nL 279.419874 112.565955 \r\nL 282.764529 120.524377 \r\nL 286.109185 128.511351 \r\nL 289.45384 136.457077 \r\nL 292.798495 144.296931 \r\nL 296.143151 151.972207 \r\nL 299.487806 159.430679 \r\nL 302.832461 166.626984 \r\nL 306.177117 173.522833 \r\nL 309.521772 180.087051 \r\nL 312.866427 186.295471 \r\nL 319.555738 197.581675 \r\nL 326.245049 207.316067 \r\nL 329.589704 211.604902 \r\nL 332.934359 215.519167 \r\nL 339.62367 222.278223 \r\nL 346.312981 227.727021 \r\nL 349.657636 230.009853 \r\nL 359.691602 235.349478 \r\nL 363.036257 236.697862 \r\nL 366.380913 237.864884 \r\nL 369.725568 238.869843 \r\n\" style=\"fill:none;stroke:#d62728;stroke-linecap:square;stroke-width:2;\"/>\r\n   </g>\r\n   <g id=\"patch_76\">\r\n    <path d=\"M 50.14375 253.1955 \r\nL 50.14375 35.7555 \r\n\" style=\"fill:none;stroke:#000000;stroke-linecap:square;stroke-linejoin:miter;stroke-width:0.8;\"/>\r\n   </g>\r\n   <g id=\"patch_77\">\r\n    <path d=\"M 384.94375 253.1955 \r\nL 384.94375 35.7555 \r\n\" style=\"fill:none;stroke:#000000;stroke-linecap:square;stroke-linejoin:miter;stroke-width:0.8;\"/>\r\n   </g>\r\n   <g id=\"patch_78\">\r\n    <path d=\"M 50.14375 253.1955 \r\nL 384.94375 253.1955 \r\n\" style=\"fill:none;stroke:#000000;stroke-linecap:square;stroke-linejoin:miter;stroke-width:0.8;\"/>\r\n   </g>\r\n   <g id=\"patch_79\">\r\n    <path d=\"M 50.14375 35.7555 \r\nL 384.94375 35.7555 \r\n\" style=\"fill:none;stroke:#000000;stroke-linecap:square;stroke-linejoin:miter;stroke-width:0.8;\"/>\r\n   </g>\r\n   <g id=\"text_24\">\r\n    <!-- Histogram and Normal Distribution of Testing Errors -->\r\n    <defs>\r\n     <path d=\"M 9.8125 72.90625 \r\nL 19.671875 72.90625 \r\nL 19.671875 43.015625 \r\nL 55.515625 43.015625 \r\nL 55.515625 72.90625 \r\nL 65.375 72.90625 \r\nL 65.375 0 \r\nL 55.515625 0 \r\nL 55.515625 34.71875 \r\nL 19.671875 34.71875 \r\nL 19.671875 0 \r\nL 9.8125 0 \r\nz\r\n\" id=\"DejaVuSans-72\"/>\r\n     <path d=\"M 9.421875 75.984375 \r\nL 18.40625 75.984375 \r\nL 18.40625 0 \r\nL 9.421875 0 \r\nz\r\n\" id=\"DejaVuSans-108\"/>\r\n     <path d=\"M 19.671875 64.796875 \r\nL 19.671875 8.109375 \r\nL 31.59375 8.109375 \r\nQ 46.6875 8.109375 53.6875 14.9375 \r\nQ 60.6875 21.78125 60.6875 36.53125 \r\nQ 60.6875 51.171875 53.6875 57.984375 \r\nQ 46.6875 64.796875 31.59375 64.796875 \r\nz\r\nM 9.8125 72.90625 \r\nL 30.078125 72.90625 \r\nQ 51.265625 72.90625 61.171875 64.09375 \r\nQ 71.09375 55.28125 71.09375 36.53125 \r\nQ 71.09375 17.671875 61.125 8.828125 \r\nQ 51.171875 0 30.078125 0 \r\nL 9.8125 0 \r\nz\r\n\" id=\"DejaVuSans-68\"/>\r\n     <path d=\"M -0.296875 72.90625 \r\nL 61.375 72.90625 \r\nL 61.375 64.59375 \r\nL 35.5 64.59375 \r\nL 35.5 0 \r\nL 25.59375 0 \r\nL 25.59375 64.59375 \r\nL -0.296875 64.59375 \r\nz\r\n\" id=\"DejaVuSans-84\"/>\r\n    </defs>\r\n    <g transform=\"translate(62.352813 16.318125)scale(0.12 -0.12)\">\r\n     <use xlink:href=\"#DejaVuSans-72\"/>\r\n     <use x=\"75.195312\" xlink:href=\"#DejaVuSans-105\"/>\r\n     <use x=\"102.978516\" xlink:href=\"#DejaVuSans-115\"/>\r\n     <use x=\"155.078125\" xlink:href=\"#DejaVuSans-116\"/>\r\n     <use x=\"194.287109\" xlink:href=\"#DejaVuSans-111\"/>\r\n     <use x=\"255.46875\" xlink:href=\"#DejaVuSans-103\"/>\r\n     <use x=\"318.945312\" xlink:href=\"#DejaVuSans-114\"/>\r\n     <use x=\"360.058594\" xlink:href=\"#DejaVuSans-97\"/>\r\n     <use x=\"421.337891\" xlink:href=\"#DejaVuSans-109\"/>\r\n     <use x=\"518.75\" xlink:href=\"#DejaVuSans-32\"/>\r\n     <use x=\"550.537109\" xlink:href=\"#DejaVuSans-97\"/>\r\n     <use x=\"611.816406\" xlink:href=\"#DejaVuSans-110\"/>\r\n     <use x=\"675.195312\" xlink:href=\"#DejaVuSans-100\"/>\r\n     <use x=\"738.671875\" xlink:href=\"#DejaVuSans-32\"/>\r\n     <use x=\"770.458984\" xlink:href=\"#DejaVuSans-78\"/>\r\n     <use x=\"845.263672\" xlink:href=\"#DejaVuSans-111\"/>\r\n     <use x=\"906.445312\" xlink:href=\"#DejaVuSans-114\"/>\r\n     <use x=\"945.808594\" xlink:href=\"#DejaVuSans-109\"/>\r\n     <use x=\"1043.220703\" xlink:href=\"#DejaVuSans-97\"/>\r\n     <use x=\"1104.5\" xlink:href=\"#DejaVuSans-108\"/>\r\n     <use x=\"1132.283203\" xlink:href=\"#DejaVuSans-32\"/>\r\n     <use x=\"1164.070312\" xlink:href=\"#DejaVuSans-68\"/>\r\n     <use x=\"1241.072266\" xlink:href=\"#DejaVuSans-105\"/>\r\n     <use x=\"1268.855469\" xlink:href=\"#DejaVuSans-115\"/>\r\n     <use x=\"1320.955078\" xlink:href=\"#DejaVuSans-116\"/>\r\n     <use x=\"1360.164062\" xlink:href=\"#DejaVuSans-114\"/>\r\n     <use x=\"1401.277344\" xlink:href=\"#DejaVuSans-105\"/>\r\n     <use x=\"1429.060547\" xlink:href=\"#DejaVuSans-98\"/>\r\n     <use x=\"1492.537109\" xlink:href=\"#DejaVuSans-117\"/>\r\n     <use x=\"1555.916016\" xlink:href=\"#DejaVuSans-116\"/>\r\n     <use x=\"1595.125\" xlink:href=\"#DejaVuSans-105\"/>\r\n     <use x=\"1622.908203\" xlink:href=\"#DejaVuSans-111\"/>\r\n     <use x=\"1684.089844\" xlink:href=\"#DejaVuSans-110\"/>\r\n     <use x=\"1747.46875\" xlink:href=\"#DejaVuSans-32\"/>\r\n     <use x=\"1779.255859\" xlink:href=\"#DejaVuSans-111\"/>\r\n     <use x=\"1840.4375\" xlink:href=\"#DejaVuSans-102\"/>\r\n     <use x=\"1875.642578\" xlink:href=\"#DejaVuSans-32\"/>\r\n     <use x=\"1907.429688\" xlink:href=\"#DejaVuSans-84\"/>\r\n     <use x=\"1951.513672\" xlink:href=\"#DejaVuSans-101\"/>\r\n     <use x=\"2013.037109\" xlink:href=\"#DejaVuSans-115\"/>\r\n     <use x=\"2065.136719\" xlink:href=\"#DejaVuSans-116\"/>\r\n     <use x=\"2104.345703\" xlink:href=\"#DejaVuSans-105\"/>\r\n     <use x=\"2132.128906\" xlink:href=\"#DejaVuSans-110\"/>\r\n     <use x=\"2195.507812\" xlink:href=\"#DejaVuSans-103\"/>\r\n     <use x=\"2258.984375\" xlink:href=\"#DejaVuSans-32\"/>\r\n     <use x=\"2290.771484\" xlink:href=\"#DejaVuSans-69\"/>\r\n     <use x=\"2353.955078\" xlink:href=\"#DejaVuSans-114\"/>\r\n     <use x=\"2393.318359\" xlink:href=\"#DejaVuSans-114\"/>\r\n     <use x=\"2432.181641\" xlink:href=\"#DejaVuSans-111\"/>\r\n     <use x=\"2493.363281\" xlink:href=\"#DejaVuSans-114\"/>\r\n     <use x=\"2534.476562\" xlink:href=\"#DejaVuSans-115\"/>\r\n    </g>\r\n    <!-- μ=-2.670, σ=15.066, avg no of heads=43.994 -->\r\n    <defs>\r\n     <path d=\"M 8.5 -20.796875 \r\nL 8.5 54.6875 \r\nL 17.484375 54.6875 \r\nL 17.484375 20.703125 \r\nQ 17.484375 13.625 20.84375 10 \r\nQ 24.21875 6.390625 30.8125 6.390625 \r\nQ 38.03125 6.390625 41.671875 10.484375 \r\nQ 45.3125 14.59375 45.3125 22.796875 \r\nL 45.3125 54.6875 \r\nL 54.296875 54.6875 \r\nL 54.296875 12.59375 \r\nQ 54.296875 9.671875 55.140625 8.28125 \r\nQ 56 6.890625 57.8125 6.890625 \r\nQ 58.25 6.890625 59.03125 7.15625 \r\nQ 59.8125 7.421875 61.1875 8.015625 \r\nL 61.1875 0.78125 \r\nQ 59.1875 -0.34375 57.390625 -0.875 \r\nQ 55.609375 -1.421875 53.90625 -1.421875 \r\nQ 50.53125 -1.421875 48.53125 0.484375 \r\nQ 46.53125 2.390625 45.796875 6.296875 \r\nQ 43.359375 2.4375 39.8125 0.5 \r\nQ 36.28125 -1.421875 31.5 -1.421875 \r\nQ 26.515625 -1.421875 23.015625 0.484375 \r\nQ 19.53125 2.390625 17.484375 6.203125 \r\nL 17.484375 -20.796875 \r\nz\r\n\" id=\"DejaVuSans-956\"/>\r\n     <path d=\"M 10.59375 45.40625 \r\nL 73.1875 45.40625 \r\nL 73.1875 37.203125 \r\nL 10.59375 37.203125 \r\nz\r\nM 10.59375 25.484375 \r\nL 73.1875 25.484375 \r\nL 73.1875 17.1875 \r\nL 10.59375 17.1875 \r\nz\r\n\" id=\"DejaVuSans-61\"/>\r\n     <path d=\"M 4.890625 31.390625 \r\nL 31.203125 31.390625 \r\nL 31.203125 23.390625 \r\nL 4.890625 23.390625 \r\nz\r\n\" id=\"DejaVuSans-45\"/>\r\n     <path d=\"M 33.015625 40.375 \r\nQ 26.375 40.375 22.484375 35.828125 \r\nQ 18.609375 31.296875 18.609375 23.390625 \r\nQ 18.609375 15.53125 22.484375 10.953125 \r\nQ 26.375 6.390625 33.015625 6.390625 \r\nQ 39.65625 6.390625 43.53125 10.953125 \r\nQ 47.40625 15.53125 47.40625 23.390625 \r\nQ 47.40625 31.296875 43.53125 35.828125 \r\nQ 39.65625 40.375 33.015625 40.375 \r\nz\r\nM 52.59375 71.296875 \r\nL 52.59375 62.3125 \r\nQ 48.875 64.0625 45.09375 64.984375 \r\nQ 41.3125 65.921875 37.59375 65.921875 \r\nQ 27.828125 65.921875 22.671875 59.328125 \r\nQ 17.53125 52.734375 16.796875 39.40625 \r\nQ 19.671875 43.65625 24.015625 45.921875 \r\nQ 28.375 48.1875 33.59375 48.1875 \r\nQ 44.578125 48.1875 50.953125 41.515625 \r\nQ 57.328125 34.859375 57.328125 23.390625 \r\nQ 57.328125 12.15625 50.6875 5.359375 \r\nQ 44.046875 -1.421875 33.015625 -1.421875 \r\nQ 20.359375 -1.421875 13.671875 8.265625 \r\nQ 6.984375 17.96875 6.984375 36.375 \r\nQ 6.984375 53.65625 15.1875 63.9375 \r\nQ 23.390625 74.21875 37.203125 74.21875 \r\nQ 40.921875 74.21875 44.703125 73.484375 \r\nQ 48.484375 72.75 52.59375 71.296875 \r\nz\r\n\" id=\"DejaVuSans-54\"/>\r\n     <path d=\"M 11.71875 12.40625 \r\nL 22.015625 12.40625 \r\nL 22.015625 4 \r\nL 14.015625 -11.625 \r\nL 7.71875 -11.625 \r\nL 11.71875 4 \r\nz\r\n\" id=\"DejaVuSans-44\"/>\r\n     <path d=\"M 30.609375 47.5625 \r\nQ 23.1875 47.5625 19.1875 42.1875 \r\nQ 14.984375 36.578125 14.984375 27.296875 \r\nQ 14.984375 17.484375 19.15625 11.84375 \r\nQ 23.34375 6.203125 30.609375 6.203125 \r\nQ 37.796875 6.203125 41.984375 11.859375 \r\nQ 46.1875 17.53125 46.1875 27.296875 \r\nQ 46.1875 36.234375 42 42.1875 \r\nQ 38.140625 47.5625 30.609375 47.5625 \r\nz\r\nM 30.609375 54.6875 \r\nL 60.453125 54.6875 \r\nL 60.453125 45.703125 \r\nL 50.390625 45.703125 \r\nQ 55.71875 38.09375 55.71875 27.296875 \r\nQ 55.71875 13.875 49.03125 6.25 \r\nQ 42.328125 -1.421875 30.609375 -1.421875 \r\nQ 18.84375 -1.421875 12.203125 6.25 \r\nQ 5.515625 13.875 5.515625 27.296875 \r\nQ 5.515625 40.828125 12.203125 48.390625 \r\nQ 17.71875 54.6875 30.609375 54.6875 \r\nz\r\n\" id=\"DejaVuSans-963\"/>\r\n     <path d=\"M 2.984375 54.6875 \r\nL 12.5 54.6875 \r\nL 29.59375 8.796875 \r\nL 46.6875 54.6875 \r\nL 56.203125 54.6875 \r\nL 35.6875 0 \r\nL 23.484375 0 \r\nz\r\n\" id=\"DejaVuSans-118\"/>\r\n     <path d=\"M 40.578125 39.3125 \r\nQ 47.65625 37.796875 51.625 33 \r\nQ 55.609375 28.21875 55.609375 21.1875 \r\nQ 55.609375 10.40625 48.1875 4.484375 \r\nQ 40.765625 -1.421875 27.09375 -1.421875 \r\nQ 22.515625 -1.421875 17.65625 -0.515625 \r\nQ 12.796875 0.390625 7.625 2.203125 \r\nL 7.625 11.71875 \r\nQ 11.71875 9.328125 16.59375 8.109375 \r\nQ 21.484375 6.890625 26.8125 6.890625 \r\nQ 36.078125 6.890625 40.9375 10.546875 \r\nQ 45.796875 14.203125 45.796875 21.1875 \r\nQ 45.796875 27.640625 41.28125 31.265625 \r\nQ 36.765625 34.90625 28.71875 34.90625 \r\nL 20.21875 34.90625 \r\nL 20.21875 43.015625 \r\nL 29.109375 43.015625 \r\nQ 36.375 43.015625 40.234375 45.921875 \r\nQ 44.09375 48.828125 44.09375 54.296875 \r\nQ 44.09375 59.90625 40.109375 62.90625 \r\nQ 36.140625 65.921875 28.71875 65.921875 \r\nQ 24.65625 65.921875 20.015625 65.03125 \r\nQ 15.375 64.15625 9.8125 62.3125 \r\nL 9.8125 71.09375 \r\nQ 15.4375 72.65625 20.34375 73.4375 \r\nQ 25.25 74.21875 29.59375 74.21875 \r\nQ 40.828125 74.21875 47.359375 69.109375 \r\nQ 53.90625 64.015625 53.90625 55.328125 \r\nQ 53.90625 49.265625 50.4375 45.09375 \r\nQ 46.96875 40.921875 40.578125 39.3125 \r\nz\r\n\" id=\"DejaVuSans-51\"/>\r\n     <path d=\"M 10.984375 1.515625 \r\nL 10.984375 10.5 \r\nQ 14.703125 8.734375 18.5 7.8125 \r\nQ 22.3125 6.890625 25.984375 6.890625 \r\nQ 35.75 6.890625 40.890625 13.453125 \r\nQ 46.046875 20.015625 46.78125 33.40625 \r\nQ 43.953125 29.203125 39.59375 26.953125 \r\nQ 35.25 24.703125 29.984375 24.703125 \r\nQ 19.046875 24.703125 12.671875 31.3125 \r\nQ 6.296875 37.9375 6.296875 49.421875 \r\nQ 6.296875 60.640625 12.9375 67.421875 \r\nQ 19.578125 74.21875 30.609375 74.21875 \r\nQ 43.265625 74.21875 49.921875 64.515625 \r\nQ 56.59375 54.828125 56.59375 36.375 \r\nQ 56.59375 19.140625 48.40625 8.859375 \r\nQ 40.234375 -1.421875 26.421875 -1.421875 \r\nQ 22.703125 -1.421875 18.890625 -0.6875 \r\nQ 15.09375 0.046875 10.984375 1.515625 \r\nz\r\nM 30.609375 32.421875 \r\nQ 37.25 32.421875 41.125 36.953125 \r\nQ 45.015625 41.5 45.015625 49.421875 \r\nQ 45.015625 57.28125 41.125 61.84375 \r\nQ 37.25 66.40625 30.609375 66.40625 \r\nQ 23.96875 66.40625 20.09375 61.84375 \r\nQ 16.21875 57.28125 16.21875 49.421875 \r\nQ 16.21875 41.5 20.09375 36.953125 \r\nQ 23.96875 32.421875 30.609375 32.421875 \r\nz\r\n\" id=\"DejaVuSans-57\"/>\r\n    </defs>\r\n    <g transform=\"translate(77.761563 29.7555)scale(0.12 -0.12)\">\r\n     <use xlink:href=\"#DejaVuSans-956\"/>\r\n     <use x=\"63.623047\" xlink:href=\"#DejaVuSans-61\"/>\r\n     <use x=\"147.412109\" xlink:href=\"#DejaVuSans-45\"/>\r\n     <use x=\"183.496094\" xlink:href=\"#DejaVuSans-50\"/>\r\n     <use x=\"247.119141\" xlink:href=\"#DejaVuSans-46\"/>\r\n     <use x=\"278.90625\" xlink:href=\"#DejaVuSans-54\"/>\r\n     <use x=\"342.529297\" xlink:href=\"#DejaVuSans-55\"/>\r\n     <use x=\"406.152344\" xlink:href=\"#DejaVuSans-48\"/>\r\n     <use x=\"469.775391\" xlink:href=\"#DejaVuSans-44\"/>\r\n     <use x=\"501.5625\" xlink:href=\"#DejaVuSans-32\"/>\r\n     <use x=\"533.349609\" xlink:href=\"#DejaVuSans-963\"/>\r\n     <use x=\"596.728516\" xlink:href=\"#DejaVuSans-61\"/>\r\n     <use x=\"680.517578\" xlink:href=\"#DejaVuSans-49\"/>\r\n     <use x=\"744.140625\" xlink:href=\"#DejaVuSans-53\"/>\r\n     <use x=\"807.763672\" xlink:href=\"#DejaVuSans-46\"/>\r\n     <use x=\"839.550781\" xlink:href=\"#DejaVuSans-48\"/>\r\n     <use x=\"903.173828\" xlink:href=\"#DejaVuSans-54\"/>\r\n     <use x=\"966.796875\" xlink:href=\"#DejaVuSans-54\"/>\r\n     <use x=\"1030.419922\" xlink:href=\"#DejaVuSans-44\"/>\r\n     <use x=\"1062.207031\" xlink:href=\"#DejaVuSans-32\"/>\r\n     <use x=\"1093.994141\" xlink:href=\"#DejaVuSans-97\"/>\r\n     <use x=\"1155.273438\" xlink:href=\"#DejaVuSans-118\"/>\r\n     <use x=\"1214.453125\" xlink:href=\"#DejaVuSans-103\"/>\r\n     <use x=\"1277.929688\" xlink:href=\"#DejaVuSans-32\"/>\r\n     <use x=\"1309.716797\" xlink:href=\"#DejaVuSans-110\"/>\r\n     <use x=\"1373.095703\" xlink:href=\"#DejaVuSans-111\"/>\r\n     <use x=\"1434.277344\" xlink:href=\"#DejaVuSans-32\"/>\r\n     <use x=\"1466.064453\" xlink:href=\"#DejaVuSans-111\"/>\r\n     <use x=\"1527.246094\" xlink:href=\"#DejaVuSans-102\"/>\r\n     <use x=\"1562.451172\" xlink:href=\"#DejaVuSans-32\"/>\r\n     <use x=\"1594.238281\" xlink:href=\"#DejaVuSans-104\"/>\r\n     <use x=\"1657.617188\" xlink:href=\"#DejaVuSans-101\"/>\r\n     <use x=\"1719.140625\" xlink:href=\"#DejaVuSans-97\"/>\r\n     <use x=\"1780.419922\" xlink:href=\"#DejaVuSans-100\"/>\r\n     <use x=\"1843.896484\" xlink:href=\"#DejaVuSans-115\"/>\r\n     <use x=\"1895.996094\" xlink:href=\"#DejaVuSans-61\"/>\r\n     <use x=\"1979.785156\" xlink:href=\"#DejaVuSans-52\"/>\r\n     <use x=\"2043.408203\" xlink:href=\"#DejaVuSans-51\"/>\r\n     <use x=\"2107.03125\" xlink:href=\"#DejaVuSans-46\"/>\r\n     <use x=\"2138.818359\" xlink:href=\"#DejaVuSans-57\"/>\r\n     <use x=\"2202.441406\" xlink:href=\"#DejaVuSans-57\"/>\r\n     <use x=\"2266.064453\" xlink:href=\"#DejaVuSans-52\"/>\r\n    </g>\r\n   </g>\r\n  </g>\r\n </g>\r\n <defs>\r\n  <clipPath id=\"p030cb4b42a\">\r\n   <rect height=\"217.44\" width=\"334.8\" x=\"50.14375\" y=\"35.7555\"/>\r\n  </clipPath>\r\n </defs>\r\n</svg>\r\n",
            "image/png": "[encoded data removed]"
          },
          "metadata": {
            "needs_background": "light"
          }
        }
      ],
      "source": [
        "netPath = \"saved/TrainingRuns/RegAdamTrainer/CNN_encD_3Chan_b32_te25_lr0.001\"\n",
        "my_model = CNN_3Chan(name=\"CNN_encD_3Chan\"); my_model.cuda()\n",
        "my_model.load_state_dict(torch.load(netPath+\"/model_epoch22\"))\n",
        "trainLoader, valLoader, testLoader = loadData(batchsize = 1, inPath='saved/autEncMasked/autEncD')\n",
        "_=regresAnalysis(my_model, testLoader, netPath, mode='test')"
      ]
    },
    {
      "cell_type": "code",
      "execution_count": 7,
      "metadata": {
        "tags": []
      },
      "outputs": [
        {
          "output_type": "stream",
          "name": "stdout",
          "text": "2738\n342\n342\n"
        }
      ],
      "source": [
        "print(len(trainLoader))\n",
        "print(len(valLoader))\n",
        "print(len(testLoader))"
      ]
    },
    {
      "cell_type": "markdown",
      "metadata": {},
      "source": [
        "### encD + edgeDetect"
      ]
    },
    {
      "cell_type": "code",
      "execution_count": null,
      "metadata": {
        "tags": []
      },
      "outputs": [],
      "source": [
        "trainLoader, valLoader, testLoader = loadData(batchsize = 32, args = {'func': edgeDetect2})\n",
        "my_model = CNN(name = \"CNN_edgeDetect2_encD\"); my_model.cuda()\n",
        "trainNet(net = my_model, data = [trainLoader, valLoader], batchsize = 32, epochNo = 20, lr = 0.001)"
      ]
    },
    {
      "cell_type": "code",
      "execution_count": null,
      "metadata": {
        "tags": []
      },
      "outputs": [],
      "source": [
        "netPath = \"/content/APS360-2020Summer-Project/saved/TrainingRuns/RegAdamTrainer/CNN_edgeDetect2_encD_b32_te20_lr0.001\"\n",
        "trainLoader, valLoader, testLoader = loadData(batchsize = 1, args = {'func': edgeDetect2})\n",
        "regresAnalysis(my_model, trainLoader, netPath)"
      ]
    },
    {
      "cell_type": "markdown",
      "metadata": {},
      "source": [
        "# Filter Testing"
      ]
    },
    {
      "cell_type": "code",
      "execution_count": null,
      "metadata": {},
      "outputs": [],
      "source": [
        "filepath = '/content/APS360-2020Summer-Project/data/working-wheat-data/train/0a3cb453f.jpg'\n",
        "\n",
        "# Edge Detect 2\n",
        "img   = cv2.imread(filepath)\n",
        "edges = cv2.Canny(img,175,250)\n",
        "plt.subplot(121),plt.imshow(img,cmap = 'gray')\n",
        "plt.title('Original Image'), plt.xticks([]), plt.yticks([])\n",
        "plt.subplot(122),plt.imshow(edges,cmap = 'gray')\n",
        "plt.title('Edge Det 2'), plt.xticks([]), plt.yticks([])\n",
        "plt.show()"
      ]
    },
    {
      "cell_type": "code",
      "execution_count": null,
      "metadata": {},
      "outputs": [],
      "source": [
        "# Edge Detect 1\n",
        "img   = cv2.imread(filepath)\n",
        "edges = cv2.Canny(img,100,100)\n",
        "plt.subplot(121),plt.imshow(img,cmap = 'gray')\n",
        "plt.title('Original Image'), plt.xticks([]), plt.yticks([])\n",
        "plt.subplot(122),plt.imshow(edges,cmap = 'gray')\n",
        "plt.title('Edge Det 1'), plt.xticks([]), plt.yticks([])\n",
        "plt.show()"
      ]
    },
    {
      "cell_type": "code",
      "execution_count": null,
      "metadata": {},
      "outputs": [],
      "source": [
        "# Bilateral\n",
        "img  = cv2.imread(filepath)\n",
        "imgf = cv2.bilateralFilter(cv2.cvtColor(img, cv2.COLOR_BGR2GRAY),9,100,100)\n",
        "plt.subplot(121),plt.imshow(img,cmap = 'gray')\n",
        "plt.title('Original Image'), plt.xticks([]), plt.yticks([])\n",
        "plt.subplot(122),plt.imshow(imgf,cmap = 'gray')\n",
        "plt.title('Bilateral'), plt.xticks([]), plt.yticks([])\n",
        "plt.show()"
      ]
    },
    {
      "cell_type": "code",
      "execution_count": null,
      "metadata": {},
      "outputs": [],
      "source": [
        "# Edge Det and Bilateral\n",
        "img  = cv2.imread(filepath)\n",
        "imgf = cv2.bilateralFilter(cv2.cvtColor(img, cv2.COLOR_BGR2GRAY),9,75,50)\n",
        "imgf = cv2.Canny(imgf,125,250)\n",
        "plt.subplot(121),plt.imshow(img,cmap = 'gray')\n",
        "plt.title('Original Image'), plt.xticks([]), plt.yticks([])\n",
        "plt.subplot(122),plt.imshow(imgf,cmap = 'gray')\n",
        "plt.title('Bilateral + Edge Det'), plt.xticks([]), plt.yticks([])\n",
        "plt.show()"
      ]
    },
    {
      "cell_type": "code",
      "execution_count": null,
      "metadata": {},
      "outputs": [],
      "source": [
        "# laplacian\n",
        "img  = cv2.imread(filepath)\n",
        "imgf = cv2.Laplacian(cv2.cvtColor(img, cv2.COLOR_BGR2GRAY),cv2.CV_64F)\n",
        "plt.subplot(121),plt.imshow(img,cmap = 'gray')\n",
        "plt.title('Original Image'), plt.xticks([]), plt.yticks([])\n",
        "plt.subplot(122),plt.imshow(imgf,cmap = 'gray')\n",
        "plt.title('laplacian'), plt.xticks([]), plt.yticks([])\n",
        "plt.show()"
      ]
    },
    {
      "cell_type": "code",
      "execution_count": null,
      "metadata": {},
      "outputs": [],
      "source": []
    }
  ]
}