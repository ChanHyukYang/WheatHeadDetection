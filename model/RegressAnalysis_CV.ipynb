{
  "nbformat": 4,
  "nbformat_minor": 0,
  "metadata": {
    "language_info": {
      "codemirror_mode": {
        "name": "ipython",
        "version": 3
      },
      "file_extension": ".py",
      "mimetype": "text/x-python",
      "name": "python",
      "nbconvert_exporter": "python",
      "pygments_lexer": "ipython3",
      "version": 3
    },
    "orig_nbformat": 2,
    "kernelspec": {
      "name": "python_defaultSpec_1595954084479",
      "display_name": "Python 3.6.9 64-bit"
    },
    "colab": {
      "name": "RegressAnalysis_CV.ipynb",
      "provenance": [],
      "collapsed_sections": []
    }
  },
  "cells": [
    {
      "cell_type": "markdown",
      "metadata": {
        "id": "gNAh4od9TkcW",
        "colab_type": "text"
      },
      "source": [
        "# Set-Up"
      ]
    },
    {
      "cell_type": "code",
      "metadata": {
        "id": "zAwL-ThZTkcY",
        "colab_type": "code",
        "colab": {},
        "outputId": "a9040822-8d76-4e12-83da-3f2fca2ccec8"
      },
      "source": [
        "import os\n",
        "from lib.train_AI_lib import *"
      ],
      "execution_count": null,
      "outputs": [
        {
          "output_type": "error",
          "ename": "ModuleNotFoundError",
          "evalue": "No module named 'lib.train_AI_lib'",
          "traceback": [
            "\u001b[0;31m---------------------------------------------------------------------------\u001b[0m",
            "\u001b[0;31mModuleNotFoundError\u001b[0m                       Traceback (most recent call last)",
            "\u001b[0;32m<ipython-input-3-061d53754f58>\u001b[0m in \u001b[0;36m<module>\u001b[0;34m()\u001b[0m\n\u001b[1;32m      1\u001b[0m \u001b[0;32mimport\u001b[0m \u001b[0mos\u001b[0m\u001b[0;34m\u001b[0m\u001b[0;34m\u001b[0m\u001b[0m\n\u001b[0;32m----> 2\u001b[0;31m \u001b[0;32mfrom\u001b[0m \u001b[0mlib\u001b[0m\u001b[0;34m.\u001b[0m\u001b[0mtrain_AI_lib\u001b[0m \u001b[0;32mimport\u001b[0m \u001b[0;34m*\u001b[0m\u001b[0;34m\u001b[0m\u001b[0;34m\u001b[0m\u001b[0m\n\u001b[0m",
            "\u001b[0;31mModuleNotFoundError\u001b[0m: No module named 'lib.train_AI_lib'",
            "",
            "\u001b[0;31m---------------------------------------------------------------------------\u001b[0;32m\nNOTE: If your import is failing due to a missing package, you can\nmanually install dependencies using either !pip or !apt.\n\nTo view examples of installing some common dependencies, click the\n\"Open Examples\" button below.\n\u001b[0;31m---------------------------------------------------------------------------\u001b[0m\n"
          ]
        }
      ]
    },
    {
      "cell_type": "code",
      "metadata": {
        "tags": [],
        "id": "c5UBpaBITkce",
        "colab_type": "code",
        "colab": {},
        "outputId": "786e4e1e-dc51-407a-cd67-dfe33107c717"
      },
      "source": [
        "#os.chdir('..')\n",
        "print(os.getcwd())"
      ],
      "execution_count": null,
      "outputs": [
        {
          "output_type": "stream",
          "text": [
            "/content/APS360-2020Summer-Project\n"
          ],
          "name": "stdout"
        }
      ]
    },
    {
      "cell_type": "code",
      "metadata": {
        "id": "kchdkZLTTkch",
        "colab_type": "code",
        "colab": {}
      },
      "source": [
        "import cv2\n",
        "#### Filters we want to use ####\n",
        "edgeDetect  = lambda oImg: cv2.Canny(oImg, 125, 200)\n",
        "edgeDetect2 = lambda fImg: cv2.Canny(fImg, 175, 250)\n",
        "laplacian   = lambda pImg: cv2.Laplacian(cv2.cvtColor(pImg, cv2.COLOR_BGR2GRAY),cv2.CV_64F)\n",
        "gradient    = lambda gImg: cv2.morphologyEx(cv2.cvtColor(gImg, cv2.COLOR_BGR2GRAY), cv2.MORPH_GRADIENT, (5,5))\n",
        "opening     = lambda cImg: cv2.morphologyEx(cv2.cvtColor(cImg, cv2.COLOR_BGR2GRAY), cv2.MORPH_OPEN, kernel)\n",
        "bilateral   = lambda bImg: cv2.bilateralFilter(cv2.cvtColor(bImg, cv2.COLOR_BGR2GRAY),9,100,100)"
      ],
      "execution_count": null,
      "outputs": []
    },
    {
      "cell_type": "code",
      "metadata": {
        "id": "eDYgEAveTkcl",
        "colab_type": "code",
        "colab": {}
      },
      "source": [
        "class CNN(nn.Module):\n",
        "    def __init__(self, name):\n",
        "        super(CNN, self).__init__()\n",
        "        self.name = name\n",
        "\n",
        "        self.conv1 = nn.Conv2d(1,   15,  6, stride=2)  # n = 1024 -> 510\n",
        "        self.conv2 = nn.Conv2d(15,  30,  6, stride=2)  # n = 510  -> 253\n",
        "        self.pool1 = nn.MaxPool2d(3, 2)                # n = 253  -> 126\n",
        "        self.conv3 = nn.Conv2d(30,  60,  6, stride=2)  # n = 126  -> 61\n",
        "        self.pool2 = nn.MaxPool2d(4, 2)                # n = 61   -> 29\n",
        "\n",
        "        self.fc1   = nn.Linear(29*29*60, 20)\n",
        "        self.fc2   = nn.Linear(20, 1)\n",
        "\n",
        "    def forward(self, x):\n",
        "        x = self.pool1(F.relu(self.conv1(x)))\n",
        "        x = F.relu(self.conv2(x))\n",
        "        x = self.pool2(F.relu(self.conv3(x)))\n",
        "        x = x.view(-1, 29*29*60)\n",
        "        x = F.relu(self.fc1(x))\n",
        "        x = self.fc2(x)\n",
        "        return(x)"
      ],
      "execution_count": null,
      "outputs": []
    },
    {
      "cell_type": "code",
      "metadata": {
        "id": "WSHnUnEhTkcp",
        "colab_type": "code",
        "colab": {}
      },
      "source": [
        "torch.cuda.is_available()"
      ],
      "execution_count": null,
      "outputs": []
    },
    {
      "cell_type": "markdown",
      "metadata": {
        "id": "KUAdI8iJTkcs",
        "colab_type": "text"
      },
      "source": [
        "# Edge Detect 2"
      ]
    },
    {
      "cell_type": "code",
      "metadata": {
        "id": "U4PVNiacTkcs",
        "colab_type": "code",
        "colab": {}
      },
      "source": [
        "# make dataloaders\n",
        "trainLoader, valLoader, testLoader = loadData(batchsize = 32, args = {'func': edgeDetect2})"
      ],
      "execution_count": null,
      "outputs": []
    },
    {
      "cell_type": "code",
      "metadata": {
        "id": "kQX-lPdiTkcw",
        "colab_type": "code",
        "colab": {}
      },
      "source": [
        "my_model = CNN(name = \"edgeDetect2\")\n",
        "use_cuda = True\n",
        "\n",
        "if use_cuda and torch.cuda.is_available():\n",
        "  my_model.cuda()\n",
        "  print('CUDA is available!  Training on GPU ...')\n",
        "else:\n",
        "  print('CUDA is not available.  Training on CPU ...')\n",
        "\n",
        "trainNet(net = my_model,\n",
        "         data = [trainLoader, valLoader], \n",
        "         batchsize = 32, \n",
        "         epochNo = 20, \n",
        "         lr = 0.001)"
      ],
      "execution_count": null,
      "outputs": []
    },
    {
      "cell_type": "code",
      "metadata": {
        "id": "2AYXjyl7Tkc4",
        "colab_type": "code",
        "colab": {}
      },
      "source": [
        "dir = \"/content/APS360-2020Summer-Project/saved/TrainingRuns/OpenCV/edgedetect2_b64_te10_lr0.001\"\n",
        "if not os.path.exists(dir):\n",
        "    os.mkdir(dir)"
      ],
      "execution_count": null,
      "outputs": []
    },
    {
      "cell_type": "code",
      "metadata": {
        "id": "OBO0hO8cTkc_",
        "colab_type": "code",
        "colab": {}
      },
      "source": [
        "#net = exNetClass('netA'); net.cuda()\n",
        "netPath = 'saved/TrainingRuns/OpenCV/edgedetect2_b64_te10_lr0.001'\n",
        "#net.load_state_dict(torch.load(netPath+'/model_epoch9'))\n",
        "trainLoader, valLoader, testLoader = loadData(batchsize = 1, args = {'func': edgeDetect2})\n",
        "_ = regresAnalysis(my_model, trainLoader, netPath)"
      ],
      "execution_count": null,
      "outputs": []
    },
    {
      "cell_type": "markdown",
      "metadata": {
        "id": "dh4owaC7TkdE",
        "colab_type": "text"
      },
      "source": [
        "# Edge Detect 1 "
      ]
    },
    {
      "cell_type": "code",
      "metadata": {
        "id": "_pUK5FoDTkdH",
        "colab_type": "code",
        "colab": {}
      },
      "source": [
        "# make dataloaders\n",
        "trainLoader, valLoader, testLoader = loadData(batchsize = 32, args = {'func': edgeDetect})"
      ],
      "execution_count": null,
      "outputs": []
    },
    {
      "cell_type": "code",
      "metadata": {
        "id": "oLMoaSkATkdM",
        "colab_type": "code",
        "colab": {}
      },
      "source": [
        "my_model2 = CNN(name = \"edgeDetect1\")\n",
        "use_cuda = True\n",
        "\n",
        "if use_cuda and torch.cuda.is_available():\n",
        "  my_model2.cuda()\n",
        "  print('CUDA is available!  Training on GPU ...')\n",
        "else:\n",
        "  print('CUDA is not available.  Training on CPU ...')\n",
        "\n",
        "trainNet(net = my_model2,\n",
        "         data = [trainLoader, valLoader], \n",
        "         batchsize = 32, \n",
        "         epochNo = 20, \n",
        "         lr = 0.001)"
      ],
      "execution_count": null,
      "outputs": []
    },
    {
      "cell_type": "code",
      "metadata": {
        "id": "_SHKV9ZNUUd6",
        "colab_type": "code",
        "colab": {}
      },
      "source": [
        "dir = \"/content/APS360-2020Summer-Project/saved/TrainingRuns/OpenCV/edgedetect1_b64_te10_lr0.001\"\n",
        "if not os.path.exists(dir):\n",
        "    os.mkdir(dir)"
      ],
      "execution_count": null,
      "outputs": []
    },
    {
      "cell_type": "code",
      "metadata": {
        "id": "pzsK_vesUW9v",
        "colab_type": "code",
        "colab": {}
      },
      "source": [
        "#net = exNetClass('netA'); net.cuda()\n",
        "netPath = 'saved/TrainingRuns/OpenCV/edgedetect1_b64_te10_lr0.001'\n",
        "#net.load_state_dict(torch.load(netPath+'/model_epoch9'))\n",
        "trainLoader, valLoader, testLoader = loadData(batchsize = 1, args = {'func': edgeDetect})\n",
        "_ = regresAnalysis(my_model2, trainLoader, netPath)"
      ],
      "execution_count": null,
      "outputs": []
    },
    {
      "cell_type": "markdown",
      "metadata": {
        "id": "cDZmlcmQUr9u",
        "colab_type": "text"
      },
      "source": [
        "# Contours"
      ]
    },
    {
      "cell_type": "code",
      "metadata": {
        "id": "gXUkp-X8Us9S",
        "colab_type": "code",
        "colab": {}
      },
      "source": [
        "def contour(img):\n",
        "  gray_image = cv2.cvtColor(img,cv2.COLOR_BGR2GRAY) \n",
        "  ret,thresh = cv2.threshold(gray_image,160,255,0) \n",
        "  #calculate the contours from binary image\n",
        "  contours,hierarchy = cv2.findContours(thresh,cv2.RETR_TREE,cv2.CHAIN_APPROX_SIMPLE) \n",
        "  image4 = cv2.drawContours(img,contours,-1,(0,255,0),3) \n",
        "  return image4\n",
        "\n",
        "def contour1(img):\n",
        "  gray_image = cv2.cvtColor(img,cv2.COLOR_BGR2GRAY) \n",
        "  ret,thresh = cv2.threshold(gray_image,145,255,0) \n",
        "  #calculate the contours from binary image\n",
        "  contours,hierarchy = cv2.findContours(thresh,cv2.RETR_TREE,cv2.CHAIN_APPROX_SIMPLE) \n",
        "  image4 = cv2.drawContours(img,contours,-1,(0,255,0),3) \n",
        "  return image4"
      ],
      "execution_count": null,
      "outputs": []
    },
    {
      "cell_type": "code",
      "metadata": {
        "id": "OnI-arzKU64H",
        "colab_type": "code",
        "colab": {}
      },
      "source": [
        "# make dataloaders\n",
        "trainLoader, valLoader, testLoader = loadData(batchsize = 32, args = {'func': contour})"
      ],
      "execution_count": null,
      "outputs": []
    },
    {
      "cell_type": "code",
      "metadata": {
        "id": "zmPjBsKbVPOr",
        "colab_type": "code",
        "colab": {}
      },
      "source": [
        "class CNN(nn.Module):\n",
        "    def __init__(self, name):\n",
        "        super(CNN, self).__init__()\n",
        "        self.name = name\n",
        "\n",
        "        self.conv1 = nn.Conv2d(1,   15,  6, stride=2)  # n = 1024 -> 510\n",
        "        self.conv2 = nn.Conv2d(15,  30,  6, stride=2)  # n = 510  -> 253\n",
        "        self.pool1 = nn.MaxPool2d(3, 2)                # n = 253  -> 126\n",
        "        self.conv3 = nn.Conv2d(30,  60,  6, stride=2)  # n = 126  -> 61\n",
        "        self.pool2 = nn.MaxPool2d(4, 2)                # n = 61   -> 29\n",
        "\n",
        "        self.fc1   = nn.Linear(29*29*60, 20)\n",
        "        self.fc2   = nn.Linear(20, 1)\n",
        "\n",
        "    def forward(self, x):\n",
        "        x = self.pool1(F.relu(self.conv1(x)))\n",
        "        x = F.relu(self.conv2(x))\n",
        "        x = self.pool2(F.relu(self.conv3(x)))\n",
        "        x = x.view(-1, 29*29*60)\n",
        "        x = F.relu(self.fc1(x))\n",
        "        x = self.fc2(x)\n",
        "        return(x)"
      ],
      "execution_count": null,
      "outputs": []
    },
    {
      "cell_type": "code",
      "metadata": {
        "id": "nmi66NtOU8d5",
        "colab_type": "code",
        "colab": {}
      },
      "source": [
        "my_model3 = CNN(name = \"contour\")\n",
        "use_cuda = True\n",
        "\n",
        "if use_cuda and torch.cuda.is_available():\n",
        "  my_model3.cuda()\n",
        "  print('CUDA is available!  Training on GPU ...')\n",
        "else:\n",
        "  print('CUDA is not available.  Training on CPU ...')\n",
        "\n",
        "trainNet(net = my_model3,\n",
        "         data = [trainLoader, valLoader], \n",
        "         batchsize = 32, \n",
        "         epochNo = 20, \n",
        "         lr = 0.001)"
      ],
      "execution_count": null,
      "outputs": []
    },
    {
      "cell_type": "code",
      "metadata": {
        "id": "QB6Omdr7VDEG",
        "colab_type": "code",
        "colab": {}
      },
      "source": [
        "dir = \"/content/APS360-2020Summer-Project/saved/TrainingRuns/OpenCV/contour_b64_te10_lr0.001\"\n",
        "if not os.path.exists(dir):\n",
        "    os.mkdir(dir)"
      ],
      "execution_count": null,
      "outputs": []
    },
    {
      "cell_type": "code",
      "metadata": {
        "id": "RtvNOS40VGaX",
        "colab_type": "code",
        "colab": {}
      },
      "source": [
        "#net = exNetClass('netA'); net.cuda()\n",
        "netPath = 'saved/TrainingRuns/OpenCV/contour_b64_te10_lr0.001'\n",
        "#net.load_state_dict(torch.load(netPath+'/model_epoch9'))\n",
        "trainLoader, valLoader, testLoader = loadData(batchsize = 1, args = {'func': contour})\n",
        "_ = regresAnalysis(my_model3, trainLoader, netPath)"
      ],
      "execution_count": null,
      "outputs": []
    },
    {
      "cell_type": "code",
      "metadata": {
        "id": "JLw7QNF7V4Mx",
        "colab_type": "code",
        "colab": {}
      },
      "source": [
        "# make dataloaders\n",
        "trainLoader, valLoader, testLoader = loadData(batchsize = 32, args = {'func': contour1})"
      ],
      "execution_count": null,
      "outputs": []
    },
    {
      "cell_type": "code",
      "metadata": {
        "id": "-NiRWNpAVqDo",
        "colab_type": "code",
        "colab": {}
      },
      "source": [
        "my_model4 = CNN(name = \"contour1\")\n",
        "use_cuda = True\n",
        "\n",
        "if use_cuda and torch.cuda.is_available():\n",
        "  my_model4.cuda()\n",
        "  print('CUDA is available!  Training on GPU ...')\n",
        "else:\n",
        "  print('CUDA is not available.  Training on CPU ...')\n",
        "\n",
        "trainNet(net = my_model4,\n",
        "         data = [trainLoader, valLoader], \n",
        "         batchsize = 32, \n",
        "         epochNo = 20, \n",
        "         lr = 0.001)"
      ],
      "execution_count": null,
      "outputs": []
    },
    {
      "cell_type": "code",
      "metadata": {
        "id": "Dd6MH9tGVuc4",
        "colab_type": "code",
        "colab": {}
      },
      "source": [
        "dir = \"/content/APS360-2020Summer-Project/saved/TrainingRuns/OpenCV/contour1_b64_te10_lr0.001\"\n",
        "if not os.path.exists(dir):\n",
        "    os.mkdir(dir)"
      ],
      "execution_count": null,
      "outputs": []
    },
    {
      "cell_type": "code",
      "metadata": {
        "id": "txmycE1_VwBU",
        "colab_type": "code",
        "colab": {}
      },
      "source": [
        "#net = exNetClass('netA'); net.cuda()\n",
        "netPath = 'saved/TrainingRuns/OpenCV/contour1_b64_te10_lr0.001'\n",
        "#net.load_state_dict(torch.load(netPath+'/model_epoch9'))\n",
        "trainLoader, valLoader, testLoader = loadData(batchsize = 1, args = {'func': contour1})\n",
        "_ = regresAnalysis(my_model4, trainLoader, netPath)"
      ],
      "execution_count": null,
      "outputs": []
    }
  ]
}