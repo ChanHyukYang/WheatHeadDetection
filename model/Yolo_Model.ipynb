{
  "nbformat": 4,
  "nbformat_minor": 0,
  "metadata": {
    "colab": {
      "name": "Yolo Model",
      "provenance": [],
      "collapsed_sections": []
    },
    "kernelspec": {
      "name": "python3",
      "display_name": "Python 3"
    },
    "accelerator": "GPU"
  },
  "cells": [
    {
      "cell_type": "markdown",
      "metadata": {
        "id": "0yIRMF5PcAm7",
        "colab_type": "text"
      },
      "source": [
        "# The Model "
      ]
    },
    {
      "cell_type": "markdown",
      "metadata": {
        "id": "a4MRHlTVb2AV",
        "colab_type": "text"
      },
      "source": [
        "Code by Hmrishav Bandyopadhyay\n",
        "https://towardsdatascience.com/real-time-object-detection-pytorch-yolo-f7fec35afb64"
      ]
    },
    {
      "cell_type": "code",
      "metadata": {
        "id": "Nbg6AtavZLYY",
        "colab_type": "code",
        "colab": {}
      },
      "source": [
        "import torch\n",
        "from torch import  nn\n",
        "\n",
        "#o = [i + 2*p - k - (k-1)*(d-1)]/s + 1--formula to calculate padding\n",
        "\n",
        "\n",
        "class Net(nn.Module):\n",
        "\n",
        "    #YOLO model\n",
        "    '''\n",
        "    Input size of the model is \n",
        "    448x448x3\n",
        "    In tensor notation, expressed as [batchsize,3,448,448]\n",
        "    output--\n",
        "    [batchsize,30,7,7]\n",
        "    '''\n",
        "\n",
        "    def __init__(self):\n",
        "        super(Net,self).__init__()\n",
        "        \n",
        "\n",
        "        self.t1=nn.Sequential(\n",
        "            nn.Conv2d(in_channels=3,out_channels=64,kernel_size=(7,7),stride=2,padding=(2,2)),\n",
        "            nn.MaxPool2d(kernel_size=(2,2),stride=2),\n",
        "        )\n",
        "        \n",
        "        self.t2=nn.Sequential(\n",
        "            nn.Conv2d(in_channels=64,out_channels=192,kernel_size=(3,3),padding=(1,1)),\n",
        "            nn.MaxPool2d(kernel_size=(2,2),stride=2),\n",
        "        )\n",
        "        self.t3=nn.Sequential(\n",
        "            nn.Conv2d(in_channels=192,out_channels=128,kernel_size=(1,1)),\n",
        "            nn.Conv2d(in_channels=128,out_channels=256,kernel_size=(3,3),padding=(1,1)),\n",
        "            nn.Conv2d(in_channels=256,out_channels=256,kernel_size=(1,1)),\n",
        "            nn.Conv2d(in_channels=256,out_channels=512,kernel_size=(3,3),padding=(1,1)),\n",
        "            nn.MaxPool2d(kernel_size=(2,2),stride=2),\n",
        "        )\n",
        "\n",
        "        self.t4=nn.Sequential(\n",
        "            nn.Conv2d(in_channels=512,out_channels=256,kernel_size=(1,1)),\n",
        "            nn.Conv2d(in_channels=256,out_channels=512,kernel_size=(3,3),padding=(1,1)),\n",
        "            nn.Conv2d(in_channels=512,out_channels=256,kernel_size=(1,1)),\n",
        "            nn.Conv2d(in_channels=256,out_channels=512,kernel_size=(3,3),padding=(1,1)),\n",
        "            nn.Conv2d(in_channels=512,out_channels=256,kernel_size=(1,1)),\n",
        "            nn.Conv2d(in_channels=256,out_channels=512,kernel_size=(3,3),padding=(1,1)),\n",
        "            nn.Conv2d(in_channels=512,out_channels=256,kernel_size=(1,1)),\n",
        "            nn.Conv2d(in_channels=256,out_channels=512,kernel_size=(3,3),padding=(1,1)),\n",
        "            nn.Conv2d(in_channels=512,out_channels=512,kernel_size=(1,1)),\n",
        "            nn.Conv2d(in_channels=512,out_channels=1024,kernel_size=(3,3),padding=(1,1)),\n",
        "\n",
        "            nn.Conv2d(in_channels=1024,out_channels=1024,kernel_size=(3,3),stride=2)\n",
        "        )\n",
        "\n",
        "        self.t5=nn.Sequential(\n",
        "            nn.Conv2d(in_channels=1024,out_channels=512,kernel_size=(1,1)),\n",
        "            nn.Conv2d(in_channels=512,out_channels=1024,kernel_size=(3,3),padding=(1,1)),\n",
        "            nn.Conv2d(in_channels=1024,out_channels=512,kernel_size=(1,1)),\n",
        "            nn.Conv2d(in_channels=512,out_channels=1024,kernel_size=(3,3),padding=(1,1)),\n",
        "\n",
        "            nn.Conv2d(in_channels=1024,out_channels=1024,kernel_size=(3,3),padding=(1,1)),\n",
        "\n",
        "            nn.Conv2d(in_channels=1024,out_channels=1024,kernel_size=(3,3),stride=2,padding=(1,1))\n",
        "\n",
        "        )\n",
        "\n",
        "        self.t6=nn.Sequential(\n",
        "            nn.Conv2d(in_channels=1024,out_channels=1024,kernel_size=(3,3),padding=(1,1)),\n",
        "            nn.Conv2d(in_channels=1024,out_channels=1024,kernel_size=(3,3),padding=(1,1))\n",
        "        )\n",
        "\n",
        "\n",
        "        \n",
        "    def forward(self,x):\n",
        "        x=self.t1(x)\n",
        "        x=self.t2(x)\n",
        "        x=self.t3(x)\n",
        "        x=self.t4(x)\n",
        "        x=self.t5(x)\n",
        "        x=self.t6(x)\n",
        "        \n",
        "        x=torch.flatten(x,1)\n",
        "        x=nn.Linear(x.size()[1],4096)(x)\n",
        "        x=nn.Linear(4096,7*7*30)(x)\n",
        "        x=x.view(-1,30,7,7)\n",
        "\n",
        "        return x #output of model"
      ],
      "execution_count": null,
      "outputs": []
    },
    {
      "cell_type": "code",
      "metadata": {
        "id": "AhYgcL0yblI3",
        "colab_type": "code",
        "colab": {}
      },
      "source": [
        ""
      ],
      "execution_count": null,
      "outputs": []
    }
  ]
}